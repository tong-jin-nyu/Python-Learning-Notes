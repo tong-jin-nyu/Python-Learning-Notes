{
 "cells": [
  {
   "cell_type": "markdown",
   "metadata": {},
   "source": [
    "# Python Learning Notes - Daily Log\n",
    "\n",
    "## 05/22/2020\n",
    "\n",
    "### Daily Objects\n",
    "\n",
    "1. Setup a complete environment for Python learning and development\n",
    "\n",
    "2. Get reference books\n",
    "\n",
    "3. Start learning!\n",
    "\n",
    "### Progress\n",
    "\n",
    "1. Determine tutoring materials\n",
    "    - [Python 100 Days by jackfrued](https://github.com/jackfrued/Python-100-Days)\n",
    "2. Pick reference books\n",
    "    - [Beginning Python: From Novice to Professional](https://www.amazon.com/Beginning-Python-Professional-Magnus-Hetland-ebook/dp/B06XGVVVMG)\n",
    "    - [Python Programming: An Introduction To Computer Science, Third Edition](https://www.amazon.com/Python-Programming-Introduction-Computer-Science/dp/1590282752)\n",
    "3. Setup Python environment\n",
    "    - Environment management: [Anaconda](https://www.anaconda.com/products/individual)\n",
    "    - Main [IDE](https://www.codecademy.com/articles/what-is-an-ide)\n",
    "        - [Jupyter Notebook](https://jupyter.org/)\n",
    "        - [PyCharm](https://www.jetbrains.com/pycharm/)\n",
    "        - [Visual Studio Code](https://code.visualstudio.com/)\n",
    "    - Other IDE options\n",
    "        - [Sublime Text 3](https://www.sublimetext.com/)\n",
    "        - [Brackets](http://brackets.io/)\n",
    "        - [Atom](https://atom.io/)"
   ]
  },
  {
   "cell_type": "markdown",
   "metadata": {},
   "source": [
    "### Exercise 1\n",
    "\n",
    "Read the Zen of Python"
   ]
  },
  {
   "cell_type": "code",
   "execution_count": 17,
   "metadata": {},
   "outputs": [],
   "source": [
    "import this"
   ]
  },
  {
   "cell_type": "markdown",
   "metadata": {},
   "source": [
    "### Exercise 2\n",
    "\n",
    "Use the `turtle` package to draw figures\n",
    "\n",
    "When I was 7, my parents bought me a local-version of Nintendo's famous entertainment system: \n",
    "\n",
    "Subor Learning Machine (小霸王学习机）. It looks like this: \n",
    "\n",
    "![Subor Learning Machine](images/05-22-2020/subor.jpg)\n",
    "\n",
    "It's pretty much a Nintendo with a keyboard and a bunch of game cards designed for \"learning\". One of them is called \"[LOGO](https://en.wikipedia.org/wiki/Logo_(programming_language))\", a programming language developed by Wally Feurzig and Seymour Papert in 1966. The main feature is to manipulate a turtle (brush) to draw any figures you want. As a kid, I found it so interesting that I gave it a special time slot between playing Contra and Nintendo World Cup. LOGO let me see the beauty of a graphical interface. One year later, Window 95 was launched and I couldn't keep myself from borrowing my auntie's computer, just for Minesweeper or Banana Wars. Ah, such good memories..."
   ]
  },
  {
   "cell_type": "code",
   "execution_count": 7,
   "metadata": {},
   "outputs": [],
   "source": [
    "# Using turtle to draw an \"A\"\n",
    "import turtle as t\n",
    "\n",
    "t.pensize(4)\n",
    "t.pencolor('red')\n",
    "\n",
    "t.left(45)\n",
    "t.forward(100)\n",
    "t.right(90)\n",
    "t.forward(50)\n",
    "t.right(135)\n",
    "t.forward(70.7)\n",
    "t.right(180)\n",
    "t.forward(70.7)\n",
    "t.right(45)\n",
    "t.forward(50)\n",
    "\n",
    "t.mainloop()"
   ]
  }
 ],
 "metadata": {
  "kernelspec": {
   "display_name": "Python 3.8.2 64-bit",
   "language": "python",
   "name": "python38264bit7e3c702f16764767914e1c3a23341f94"
  },
  "language_info": {
   "codemirror_mode": {
    "name": "ipython",
    "version": 3
   },
   "file_extension": ".py",
   "mimetype": "text/x-python",
   "name": "python",
   "nbconvert_exporter": "python",
   "pygments_lexer": "ipython3",
   "version": "3.8.2"
  }
 },
 "nbformat": 4,
 "nbformat_minor": 2
}
