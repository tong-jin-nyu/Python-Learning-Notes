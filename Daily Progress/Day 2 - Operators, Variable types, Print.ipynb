{
 "cells": [
  {
   "cell_type": "markdown",
   "metadata": {},
   "source": [
    "# Python Learning Notes\n",
    "\n",
    "## Operators, Varibable Types, and Print\n",
    "\n",
    "## 05/23/2020\n",
    "\n",
    "### Daily Objects\n",
    "\n",
    "1. Python-100-days: Day 2\n",
    "\n",
    "2. Beginning Python: Read Chapter 1\n",
    "\n",
    "3. Python Programming: Read Chapter 1\n",
    "\n",
    "### Progress\n",
    "\n",
    "1. Complete Day 2, notes attached\n",
    "\n",
    "2. Read Beginning Python Chapter 1"
   ]
  },
  {
   "cell_type": "markdown",
   "metadata": {},
   "source": [
    "### Notes\n",
    "\n",
    "#### Python-100-days: Day 2\n",
    "\n",
    "1. Commands\n",
    "\n",
    "2. Variable types\n",
    "\n",
    "    1. Integer (`int`)\n",
    "    \n",
    "    2. Float (`float`)\n",
    "    \n",
    "    3. String (`str`)\n",
    "    \n",
    "    4. Boolean (`bool`): logical True or False\n",
    "    \n",
    "    5. Complex\n",
    "    \n",
    "3. Variable Naming\n",
    "\n",
    "    1. Cannot start with number\n",
    "    \n",
    "    2. Case sensitive\n",
    "    \n",
    "    3. Avoid function names\n",
    "    \n",
    "    4. Meaningful"
   ]
  },
  {
   "cell_type": "code",
   "execution_count": 8,
   "metadata": {},
   "outputs": [
    {
     "name": "stdout",
     "output_type": "stream",
     "text": [
      "3\n",
      "2\n"
     ]
    }
   ],
   "source": [
    "# Basic operators\n",
    "# + - * /\n",
    "# // floor division, round the result down to the nearest whole number\n",
    "print(10 // 3) # floor division = 3\n",
    "# % modulus\n",
    "print(8 % 3) # modulus = 2\n",
    "# ** exponentiation"
   ]
  },
  {
   "cell_type": "code",
   "execution_count": 11,
   "metadata": {},
   "outputs": [
    {
     "name": "stdout",
     "output_type": "stream",
     "text": [
      "4.0\n"
     ]
    }
   ],
   "source": [
    "# Assignment operators\n",
    "a1 = 3\n",
    "a1 += 3   # a1 = a1 + 3 = 3 + 3 = 6\n",
    "a1 -= 5   # a1 = a1 - 5 = 6 - 5 = 1\n",
    "a1 *= 100 # a1 = a1 * 100 = 1 * 100 = 100\n",
    "a1 /= 2   # a1 = a1 / 2 = 100 / 2 = 50\n",
    "a1 %= 3   # a1 = a1 % 3 = 50 % 3 = 2\n",
    "a1 **= 3  # a1 = a1 ** 3 = 2^3 = 8\n",
    "a1 //= 2  # a1 = a1 // 2 = 8 // 2 = 4\n",
    "print(a1)"
   ]
  },
  {
   "cell_type": "code",
   "execution_count": 12,
   "metadata": {},
   "outputs": [],
   "source": [
    "# Comparison operators, same as in R\n",
    "# == != > < >= <= "
   ]
  },
  {
   "cell_type": "code",
   "execution_count": 13,
   "metadata": {},
   "outputs": [],
   "source": [
    "# Logical operators\n",
    "# and, & in R\n",
    "# or, | in R\n",
    "# not, ! in R"
   ]
  },
  {
   "cell_type": "code",
   "execution_count": 15,
   "metadata": {},
   "outputs": [
    {
     "name": "stdout",
     "output_type": "stream",
     "text": [
      "True\n",
      "False\n",
      "True\n"
     ]
    }
   ],
   "source": [
    "# Identity operators\n",
    "# is, is not\n",
    "a = {\"program\":\"A3SR\"}\n",
    "b = {\"program\":\"A3SR\"}\n",
    "c = a\n",
    "print(a is c)\n",
    "print(a is b)\n",
    "print(a == b)"
   ]
  },
  {
   "cell_type": "code",
   "execution_count": 16,
   "metadata": {},
   "outputs": [
    {
     "name": "stdout",
     "output_type": "stream",
     "text": [
      "True\n",
      "True\n"
     ]
    }
   ],
   "source": [
    "# Membership operators\n",
    "# in, not in\n",
    "a = [\"A3SR\", \"MS in DS\"]\n",
    "b = \"MS in DS\"\n",
    "c = \"Some other programs\"\n",
    "print(b in a)\n",
    "print(c not in a)"
   ]
  },
  {
   "cell_type": "code",
   "execution_count": 35,
   "metadata": {},
   "outputs": [
    {
     "name": "stdout",
     "output_type": "stream",
     "text": [
      "0\n",
      "1\n",
      "1\n",
      "5\n",
      "1\n",
      "-6\n"
     ]
    }
   ],
   "source": [
    "# Bitwise operators\n",
    "x = 0 # binary 0000\n",
    "y = 1 # binary 0001\n",
    "z = 5 # binary 0101\n",
    "w = x # binary 0000\n",
    "\n",
    "print(x & y) # Returns 0 because no pair of bits both contain 1\n",
    "# x & y = 0000 & 0001 = 0000\n",
    "print(y & z) # Returns 1 because 1 pair of bits both contain 1\n",
    "# y & z = 0001 & 0101 = 0001\n",
    "\n",
    "print(x | y) # Returns 1 because 1 pair of bits contain 1\n",
    "# x | y = 0000 | 0001 = 0001\n",
    "print(x | z) # Returns 5 (0101) because two pairs of bits contain 1\n",
    "# x | z = 0000 | 0101 = 0101\n",
    "print(x ^ y) # XOR\n",
    "# x ^ y = 0000 ^ 0001 = 0001\n",
    "print(~z) # NOT, use to get negative binary\n",
    "# ~z = -(0101 + 0001) = -(0110) = -6"
   ]
  },
  {
   "cell_type": "code",
   "execution_count": 1,
   "metadata": {},
   "outputs": [
    {
     "name": "stdout",
     "output_type": "stream",
     "text": [
      "<class 'int'>\n",
      "<class 'bool'>\n",
      "<class 'str'>\n"
     ]
    }
   ],
   "source": [
    "# Check variable types\n",
    "a = 100\n",
    "b = True\n",
    "c = 'A3SR'\n",
    "print(type(a)) # Note: must use print() to call a function. This is not required in R.\n",
    "print(type(b))\n",
    "print(type(c))"
   ]
  },
  {
   "cell_type": "code",
   "execution_count": null,
   "metadata": {},
   "outputs": [],
   "source": [
    "# Change variable types\n",
    "print(str(a))\n",
    "print(bool(c)) # If not zero or False, then True\n",
    "print(bool(0)) # If zero, then False"
   ]
  },
  {
   "cell_type": "code",
   "execution_count": 2,
   "metadata": {},
   "outputs": [
    {
     "name": "stdout",
     "output_type": "stream",
     "text": [
      "a = 100\n",
      "b = 20\n",
      "100 + 20 = 120\n"
     ]
    }
   ],
   "source": [
    "# Print out results of basic arithmetic computation of two integers\n",
    "a = int(input('a = '))\n",
    "b = int(input('b = '))\n",
    "# Use format placeholder\n",
    "print('{} + {} = {}'.format(a, b, a + b))"
   ]
  },
  {
   "cell_type": "code",
   "execution_count": 46,
   "metadata": {},
   "outputs": [
    {
     "name": "stdout",
     "output_type": "stream",
     "text": [
      "Fahrenheit: 100\n",
      "100.0 F = 37.8 C\n"
     ]
    }
   ],
   "source": [
    "# Exercise 1\n",
    "# Fahrenheit to Celcius \n",
    "f = float(input('Fahrenheit: '))\n",
    "c = (f - 32) / 1.8\n",
    "print('{:.1f} F = {:.1f} C'.format(f, c)) # Round to 1 decimal"
   ]
  },
  {
   "cell_type": "code",
   "execution_count": 47,
   "metadata": {},
   "outputs": [
    {
     "name": "stdout",
     "output_type": "stream",
     "text": [
      "Radius = 5\n",
      "Perimeter = 31.42\n",
      "Area = 78.54\n"
     ]
    }
   ],
   "source": [
    "# Exercise 2\n",
    "# Use radius to compute perimeter and area\n",
    "radius = float(input('Radius = '))\n",
    "pi = 3.141593\n",
    "area = pi * radius**2\n",
    "perimeter = 2 * pi * radius\n",
    "print('Perimeter = {:.2f}'.format(perimeter))\n",
    "print('Area = {:.2f}'.format(area))"
   ]
  },
  {
   "cell_type": "code",
   "execution_count": 51,
   "metadata": {},
   "outputs": [
    {
     "name": "stdout",
     "output_type": "stream",
     "text": [
      "Year = 200\n",
      "False\n"
     ]
    }
   ],
   "source": [
    "# Exercise 3\n",
    "# Determine leap year\n",
    "year = int(input('Year = '))\n",
    "is_leap = (year % 4 == 0 and year % 100 != 0) or year % 400 == 0\n",
    "print(is_leap)"
   ]
  }
 ],
 "metadata": {
  "kernelspec": {
   "display_name": "Python 3.8.2 64-bit",
   "language": "python",
   "name": "python38264bit7e3c702f16764767914e1c3a23341f94"
  },
  "language_info": {
   "codemirror_mode": {
    "name": "ipython",
    "version": 3
   },
   "file_extension": ".py",
   "mimetype": "text/x-python",
   "name": "python",
   "nbconvert_exporter": "python",
   "pygments_lexer": "ipython3",
   "version": "3.8.2"
  }
 },
 "nbformat": 4,
 "nbformat_minor": 2
}
