{
 "cells": [
  {
   "cell_type": "markdown",
   "metadata": {},
   "source": [
    "# Python Learning Notes\n",
    "\n",
    "## If Statement, Sequence Indexing\n",
    "\n",
    "## 05/24/2020\n",
    "\n",
    "### Daily Objects\n",
    "\n",
    "1. Python-100-days: Day 3\n",
    "\n",
    "2. Beginning Python: Read Chapter 2\n",
    "\n",
    "3. Python Programming: Read Chapter 1\n",
    "\n",
    "### Progress\n",
    "\n",
    "1. Complete Day 3\n",
    "\n",
    "  a. If statement\n",
    "  \n",
    "  b. Nested vs. flat\n",
    "  \n",
    "  c. Complete 3 exercises\n",
    "  \n",
    "2. Complete Beginning Python: Chapter 2\n",
    "\n",
    "  a. Sequences: lists and tuples\n",
    "  \n",
    "  b. Sequences manipulationL: indexing, slicing, ...\n",
    "  \n",
    "  c. The use of comma in a tuple"
   ]
  },
  {
   "cell_type": "markdown",
   "metadata": {},
   "source": [
    "### Notes\n",
    "\n",
    "#### Python-100-days\n",
    "\n",
    "1. If statement\n",
    "\n",
    "    a. if: `if`\n",
    "    \n",
    "    b. else if: `elif`\n",
    "    \n",
    "    c. else: `else`"
   ]
  },
  {
   "cell_type": "code",
   "execution_count": 1,
   "metadata": {},
   "outputs": [
    {
     "name": "stdout",
     "output_type": "stream",
     "text": [
      "Access Granted!\n"
     ]
    }
   ],
   "source": [
    "# Use if statement to build a user identification system\n",
    "# username = input('Please enter your username: ')\n",
    "# pin = input('Please enter your pin: ')\n",
    "username = 'A3SR'\n",
    "pin = '2020'\n",
    "if username == 'A3SR' and pin == '2020':\n",
    "    print('Access Granted!')\n",
    "else:\n",
    "    print('Access Denied!')"
   ]
  },
  {
   "cell_type": "markdown",
   "metadata": {},
   "source": [
    "**Practice 1:** Build a piecewise function using flat if statement\n",
    "\n",
    "$$\n",
    "f(x) = \n",
    "\\begin{cases}\n",
    "  3x - 5 & (x > 1) \\\\\n",
    "  x  + 2 & (-1 \\leq x \\leq 1) \\\\\n",
    "  5x + 3 & (x < -1) \\\\\n",
    "\\end{cases}\n",
    "$$"
   ]
  },
  {
   "cell_type": "code",
   "execution_count": 2,
   "metadata": {},
   "outputs": [
    {
     "name": "stdout",
     "output_type": "stream",
     "text": [
      "x = 50\n",
      "f(50.00) = 145.00\n"
     ]
    }
   ],
   "source": [
    "# Practice 1\n",
    "x = float(input('x = '))\n",
    "if x > 1:\n",
    "    f_x = 3 * x - 5\n",
    "elif x >= -1:\n",
    "    f_x = x + 2\n",
    "else:\n",
    "    f_x = 5 * x + 3\n",
    "print('f({:.2f}) = {:.2f}'.format(x, f_x))"
   ]
  },
  {
   "cell_type": "markdown",
   "metadata": {},
   "source": [
    "**Practice 2:** Build a piecewise function using nested if statement\n",
    "\n",
    "$$\n",
    "f(x) = \n",
    "\\begin{cases}\n",
    "  3x - 5 & (x > 1) \\\\\n",
    "  x  + 2 & (-1 \\leq x \\leq 1) \\\\\n",
    "  5x + 3 & (x < -1) \\\\\n",
    "\\end{cases}\n",
    "$$"
   ]
  },
  {
   "cell_type": "code",
   "execution_count": 3,
   "metadata": {},
   "outputs": [
    {
     "name": "stdout",
     "output_type": "stream",
     "text": [
      "x = 3\n",
      "f(3.00) = 4.00\n"
     ]
    }
   ],
   "source": [
    "# Practice 2\n",
    "x = float(input('x = '))\n",
    "if x > 1:\n",
    "    f_x = 3 * x - 5\n",
    "else:\n",
    "    if x >= -1:\n",
    "        f_x = x + 2\n",
    "    else:\n",
    "        f_x = 5 * x + 3\n",
    "print('f({:.2f}) = {:.2f}'.format(x, f_x))"
   ]
  },
  {
   "cell_type": "markdown",
   "metadata": {},
   "source": [
    "Note: **Flat is better than nested!**"
   ]
  },
  {
   "cell_type": "code",
   "execution_count": 4,
   "metadata": {},
   "outputs": [
    {
     "name": "stdout",
     "output_type": "stream",
     "text": [
      "7.00 cm is 2.76 in.\n",
      "19.00 in is 48.26 cm\n",
      "Please enter a valid unit.\n"
     ]
    }
   ],
   "source": [
    "# Exercise 1\n",
    "# What is inches in centimeters?\n",
    "def inch_to_cm(value, unit):\n",
    "    if unit == 'inch' or unit == 'in':\n",
    "        print('{:.2f} {} is {:.2f} {}'.format(value, unit, value * 2.54, 'cm'))\n",
    "    elif unit == 'centimeter' or unit == 'cm' or unit == 'centimeters':\n",
    "        print('{:.2f} {} is {:.2f} {}'.format(value, unit, value / 2.54, 'in.'))\n",
    "    else:\n",
    "        print('Please enter a valid unit.')\n",
    "# Test\n",
    "inch_to_cm(7, 'cm')\n",
    "inch_to_cm(19, 'in')\n",
    "inch_to_cm(2, 'ft')"
   ]
  },
  {
   "cell_type": "code",
   "execution_count": 5,
   "metadata": {},
   "outputs": [
    {
     "name": "stdout",
     "output_type": "stream",
     "text": [
      "Your grade is A.\n",
      "Your grade is F.\n",
      "Please enter a valid grade.\n"
     ]
    }
   ],
   "source": [
    "# Exercise 2\n",
    "# Percentile GPA to grade GPA\n",
    "# A if higher than or equal to 90\n",
    "# B if higher than or equal to 80 but lower than 90\n",
    "# C if higher than or equal to 70 but lower than 80\n",
    "# D if higher than or equal to 60 but lower than 70\n",
    "# F if lower than 60\n",
    "def GPA_converter(grade):\n",
    "    if type(grade) != int and type(grade) != float:\n",
    "        print('Please enter a valid grade.')\n",
    "    else:\n",
    "        if grade >= 90:\n",
    "            print('Your grade is A.')\n",
    "        elif grade >= 80:\n",
    "            print('Your grade is B.')\n",
    "        elif grade >= 70:\n",
    "            print('Your grade is C.')\n",
    "        elif grade >= 60:\n",
    "            print('Your grade is D.')\n",
    "        else: \n",
    "            print('Your grade is F.')\n",
    "# Test\n",
    "GPA_converter(91)\n",
    "GPA_converter(54)\n",
    "GPA_converter(True)"
   ]
  },
  {
   "cell_type": "code",
   "execution_count": 6,
   "metadata": {},
   "outputs": [
    {
     "name": "stdout",
     "output_type": "stream",
     "text": [
      "The area is: 5.33. The perimeter is: 13.00\n",
      "Impossible to form a triangle using these values.\n",
      "Please enter valid size lengths.\n"
     ]
    }
   ],
   "source": [
    "# Exercise 3\n",
    "# Given side lengths, calculate area and perimeter\n",
    "from math import sqrt\n",
    "def triangle_generator(a, b, c):\n",
    "    validator = [int, float]\n",
    "    if type(a) not in validator or \\\n",
    "       type(b) not in validator or \\\n",
    "       type(c) not in validator:\n",
    "        print('Please enter valid size lengths.')\n",
    "    else:\n",
    "        two_sides = [a + b, b + c, a + c]\n",
    "        if two_sides[0] > c and two_sides[1] > a and two_sides[2] > b:\n",
    "            peri = a + b + c\n",
    "            half_peri = peri / 2\n",
    "            # Use Heron's formula to compute area\n",
    "            area = sqrt(half_peri * (half_peri - a) * (half_peri - b) * (half_peri - c))\n",
    "            print('The area is: {:.2f}. The perimeter is: {:.2f}'.format(area, peri))\n",
    "        else:\n",
    "            print('Impossible to form a triangle using these values.')\n",
    "\n",
    "# Test\n",
    "triangle_generator(3, 4, 6)\n",
    "triangle_generator(10, 3, 1)\n",
    "triangle_generator(1, 5, True)"
   ]
  },
  {
   "cell_type": "markdown",
   "metadata": {},
   "source": [
    "#### Beginning Python\n",
    "\n",
    "1. Sequences: start from 0 instead of 1 (as in R)\n",
    "    \n",
    "  i. Lists: changable, suitable for most circumstances\n",
    "        \n",
    "  ii. Tuples: not changable, for dictionary keys\n",
    "    \n",
    "  iii. Sequences can be nested"
   ]
  },
  {
   "cell_type": "code",
   "execution_count": 7,
   "metadata": {},
   "outputs": [
    {
     "data": {
      "text/plain": [
       "[['Statistics', 'Master', 'New York'], ['Business', 'Bachelor', 'Shanghai']]"
      ]
     },
     "execution_count": 7,
     "metadata": {},
     "output_type": "execute_result"
    }
   ],
   "source": [
    "    A3SR = ['Statistics', 'Master', 'New York']\n",
    "    Marketing = ['Business', 'Bachelor', 'Shanghai']\n",
    "    db = [A3SR, Marketing]\n",
    "    db"
   ]
  },
  {
   "cell_type": "markdown",
   "metadata": {},
   "source": [
    "2. Containers: sequences and mappings (dictionaries)\n",
    "\n",
    "3. **Sequence indexing**\n",
    "\n",
    "  i. From left: 0\n",
    "  \n",
    "  ii. From right: -1\n",
    "  \n",
    "**Practice 3:** Build a calendar function to report date in long format"
   ]
  },
  {
   "cell_type": "code",
   "execution_count": 8,
   "metadata": {},
   "outputs": [
    {
     "name": "stdout",
     "output_type": "stream",
     "text": [
      "Date in long format: May 30th, 2020\n",
      "Values are out of boundary.\n",
      "Please enter a valid date.\n"
     ]
    }
   ],
   "source": [
    "# Practice 3\n",
    "# Create a list to store month names\n",
    "month_names = [\n",
    "    'January',\n",
    "    'February',\n",
    "    'March',\n",
    "    'April',\n",
    "    'May',\n",
    "    'June',\n",
    "    'July',\n",
    "    'August',\n",
    "    'September',\n",
    "    'October',\n",
    "    'November',\n",
    "    'December'\n",
    "]\n",
    "# Create a list to store ordinal date endings\n",
    "endings = ['st', 'nd', 'rd'] \\\n",
    "        + ['th'] * 17 \\\n",
    "        + ['st', 'nd', 'rd'] \\\n",
    "        + ['th'] * 7 \\\n",
    "        + ['st']\n",
    "\n",
    "def long_format_date(year, month, day):\n",
    "    validator = [int, float]\n",
    "    if type(year) not in validator or \\\n",
    "       type(month) not in validator or \\\n",
    "       type(day) not in validator:\n",
    "        print('Please enter a valid date.')\n",
    "    else:\n",
    "        year = int(year)\n",
    "        month = int(month)\n",
    "        day = int(day)\n",
    "        if year <= 0 or \\\n",
    "           month <= 0 or \\\n",
    "           month > 12 or \\\n",
    "           day <=0 or \\\n",
    "           day > 31:\n",
    "            print('Values are out of boundary.')\n",
    "        else: \n",
    "            month_output = month_names[month - 1] # Because sequence starts from 0\n",
    "            day_output = str(day) + endings[day - 1]\n",
    "            print('Date in long format: {} {}, {}'.format(month_output, day_output, year))\n",
    "        \n",
    "# Test\n",
    "long_format_date(2020, 5.0, 30.0)\n",
    "long_format_date(2020, 15, 3)\n",
    "long_format_date(2020, True, 3)"
   ]
  },
  {
   "cell_type": "markdown",
   "metadata": {},
   "source": [
    "4. **Sequence indexing**\n",
    "\n",
    "The first index is the number of the first element you want to include. However, the last index is the number of the first element after your slice."
   ]
  },
  {
   "cell_type": "code",
   "execution_count": 9,
   "metadata": {},
   "outputs": [
    {
     "name": "stdout",
     "output_type": "stream",
     "text": [
      "[4, 5, 6]\n",
      "[1, 2, 3]\n",
      "[8, 9, 10]\n",
      "[1, 3, 5, 7, 9]\n",
      "[10, 8, 6, 4, 2]\n"
     ]
    }
   ],
   "source": [
    "numbers = [1, 2, 3, 4, 5, 6, 7, 8, 9, 10]\n",
    "print(numbers[3:6]) # fourth to sixth\n",
    "print(numbers[:3]) # first to third\n",
    "print(numbers[-3:]) # last three\n",
    "print(numbers[::2]) # step size = 2\n",
    "print(numbers[::-2]) # reversed slicing"
   ]
  },
  {
   "cell_type": "markdown",
   "metadata": {},
   "source": [
    "5. Sequence manipulation\n",
    "\n",
    "  i. addition: simple addition\n",
    "\n",
    "  ii. multiplication: repeat x times\n",
    "\n",
    "6. Empty list: `None` (NA in R)\n",
    "\n",
    "7. Membership: `in`, `not in`\n",
    "\n",
    "8. `len()`, `max()`, `min()`\n",
    "\n",
    "9. List modifications"
   ]
  },
  {
   "cell_type": "code",
   "execution_count": 10,
   "metadata": {},
   "outputs": [
    {
     "name": "stdout",
     "output_type": "stream",
     "text": [
      "[1, 2, 3, 4]\n",
      "[1, 2, 3, 4, 5]\n"
     ]
    }
   ],
   "source": [
    "# Append\n",
    "a_list = [1, 2, 3]\n",
    "a_list.append(4)\n",
    "print(a_list)\n",
    "a_list[4:] = [5]\n",
    "print(a_list)"
   ]
  },
  {
   "cell_type": "code",
   "execution_count": 11,
   "metadata": {},
   "outputs": [
    {
     "name": "stdout",
     "output_type": "stream",
     "text": [
      "[]\n"
     ]
    }
   ],
   "source": [
    "# Clear\n",
    "a_list.clear()\n",
    "print(a_list)"
   ]
  },
  {
   "cell_type": "code",
   "execution_count": 12,
   "metadata": {},
   "outputs": [
    {
     "name": "stdout",
     "output_type": "stream",
     "text": [
      "[1, 2, 3]\n",
      "[0, 2, 3]\n"
     ]
    }
   ],
   "source": [
    "# Copy\n",
    "a_list = [1, 2, 3]\n",
    "b_list = a_list.copy()\n",
    "b_list[0] = 0\n",
    "print(a_list)\n",
    "print(b_list)"
   ]
  },
  {
   "cell_type": "code",
   "execution_count": 13,
   "metadata": {},
   "outputs": [
    {
     "data": {
      "text/plain": [
       "1"
      ]
     },
     "execution_count": 13,
     "metadata": {},
     "output_type": "execute_result"
    }
   ],
   "source": [
    "# Count, counts the occurrences of an element in a list\n",
    "a_list.count(1)"
   ]
  },
  {
   "cell_type": "code",
   "execution_count": 14,
   "metadata": {},
   "outputs": [
    {
     "name": "stdout",
     "output_type": "stream",
     "text": [
      "[1, 2, 3, 0, 2, 3]\n"
     ]
    }
   ],
   "source": [
    "# Extend\n",
    "a_list.extend(b_list)\n",
    "print(a_list)"
   ]
  },
  {
   "cell_type": "code",
   "execution_count": 15,
   "metadata": {},
   "outputs": [
    {
     "data": {
      "text/plain": [
       "3"
      ]
     },
     "execution_count": 15,
     "metadata": {},
     "output_type": "execute_result"
    }
   ],
   "source": [
    "# Index, search list to find the index of the first occurrence of a value\n",
    "a_list.index(0)"
   ]
  },
  {
   "cell_type": "code",
   "execution_count": 16,
   "metadata": {},
   "outputs": [
    {
     "name": "stdout",
     "output_type": "stream",
     "text": [
      "[1, 2, 3, 0, 9, 2, 3]\n"
     ]
    }
   ],
   "source": [
    "# Insert\n",
    "a_list.insert(4, 9)\n",
    "print(a_list)"
   ]
  },
  {
   "cell_type": "code",
   "execution_count": 17,
   "metadata": {},
   "outputs": [
    {
     "data": {
      "text/plain": [
       "3"
      ]
     },
     "execution_count": 17,
     "metadata": {},
     "output_type": "execute_result"
    }
   ],
   "source": [
    "# Pop, remove an element (by default, the last one) from the list\n",
    "a_list.pop()"
   ]
  },
  {
   "cell_type": "markdown",
   "metadata": {},
   "source": [
    "10. Stack\n",
    "\n",
    "  i. Last-in, first-out (LIFO)"
   ]
  },
  {
   "cell_type": "code",
   "execution_count": 18,
   "metadata": {},
   "outputs": [
    {
     "name": "stdout",
     "output_type": "stream",
     "text": [
      "[1, 2, 3, 0, 2]\n"
     ]
    }
   ],
   "source": [
    "# Remove, removes the first occurrence of a value\n",
    "a_list.remove(9)\n",
    "print(a_list)"
   ]
  },
  {
   "cell_type": "code",
   "execution_count": 19,
   "metadata": {},
   "outputs": [
    {
     "name": "stdout",
     "output_type": "stream",
     "text": [
      "[1, 2, 3, 0, 2]\n"
     ]
    }
   ],
   "source": [
    "# Reverse\n",
    "a_list.reverse\n",
    "print(a_list)"
   ]
  },
  {
   "cell_type": "code",
   "execution_count": 20,
   "metadata": {},
   "outputs": [
    {
     "name": "stdout",
     "output_type": "stream",
     "text": [
      "[0, 1, 2, 2, 3]\n",
      "[0, 1, 2, 2, 3]\n"
     ]
    }
   ],
   "source": [
    "# Sort, sort does not return anything\n",
    "c_list = a_list.copy()\n",
    "c_list.sort()\n",
    "print(c_list)\n",
    "print(sorted(a_list)) # Another way"
   ]
  },
  {
   "cell_type": "code",
   "execution_count": 21,
   "metadata": {},
   "outputs": [
    {
     "name": "stdout",
     "output_type": "stream",
     "text": [
      "['A3SR', 'MS in DS']\n",
      "[3, 2, 2, 1, 0]\n"
     ]
    }
   ],
   "source": [
    "# Advanced sort\n",
    "d_list = ['A3SR', 'MS in DS']\n",
    "e_list = a_list.copy()\n",
    "d_list.sort(key=len)\n",
    "e_list.sort(reverse=True)\n",
    "print(d_list)\n",
    "print(e_list)"
   ]
  },
  {
   "cell_type": "markdown",
   "metadata": {},
   "source": [
    "11. Tuples: use comma to define a tuple"
   ]
  }
 ],
 "metadata": {
  "kernelspec": {
   "display_name": "Python 3.8.2 64-bit",
   "language": "python",
   "name": "python38264bit7e3c702f16764767914e1c3a23341f94"
  },
  "language_info": {
   "codemirror_mode": {
    "name": "ipython",
    "version": 3
   },
   "file_extension": ".py",
   "mimetype": "text/x-python",
   "name": "python",
   "nbconvert_exporter": "python",
   "pygments_lexer": "ipython3",
   "version": "3.8.2"
  }
 },
 "nbformat": 4,
 "nbformat_minor": 2
}
