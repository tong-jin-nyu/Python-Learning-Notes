{
 "cells": [
  {
   "cell_type": "markdown",
   "metadata": {},
   "source": [
    "# Python Learning Notes - Daily Log\n",
    "\n",
    "## 05/25/2020\n",
    "\n",
    "### Daily Objects\n",
    "\n",
    "1. Python-100-days: Day 4\n",
    "\n",
    "2. Beginning Python: Read Chapter 3\n",
    "\n",
    "3. Python Programming: Read Chapter 1\n",
    "\n",
    "### Progress\n",
    "\n",
    "1. Complete Day 4\n",
    "\n",
    "2. Read Beginning Python Chapter 3 (1/2)"
   ]
  },
  {
   "cell_type": "markdown",
   "metadata": {},
   "source": [
    "### Notes\n",
    "\n",
    "#### Python-100-days: Loops\n",
    "\n",
    "1. Use `for-in` loop, if we know iteration times\n",
    "\n",
    "  a. `range()` can be used for iterations."
   ]
  },
  {
   "cell_type": "code",
   "execution_count": 2,
   "metadata": {},
   "outputs": [
    {
     "name": "stdout",
     "output_type": "stream",
     "text": [
      "5050\n"
     ]
    }
   ],
   "source": [
    "# Sum up 1 to 100: 5050\n",
    "# Solution 1\n",
    "result = 0\n",
    "for i in range(1, 101): # 1 to 100\n",
    "    result += i # result = result + i\n",
    "print(result)"
   ]
  },
  {
   "cell_type": "code",
   "execution_count": 4,
   "metadata": {},
   "outputs": [
    {
     "name": "stdout",
     "output_type": "stream",
     "text": [
      "2550\n"
     ]
    }
   ],
   "source": [
    "# Sum up 2 to 100 even numbers\n",
    "result = 0\n",
    "for i in range(2, 101, 2): # 2 to 100 even numbers\n",
    "    result += i\n",
    "print(result)"
   ]
  },
  {
   "cell_type": "markdown",
   "metadata": {},
   "source": [
    "2. Use `while` loop if we do not know how many times should we iterate\n",
    "\n",
    "  i. If `True`, continue the loop\n",
    "  \n",
    "  ii. If `False`, stop the loop\n",
    "  \n",
    "**Practice 1**: Guess a random integer between 1 and 100 within 7 steps."
   ]
  },
  {
   "cell_type": "code",
   "execution_count": 102,
   "metadata": {},
   "outputs": [
    {
     "name": "stdout",
     "output_type": "stream",
     "text": [
      "Guess: 50. Count: 1. Add up: 50. The answer should be smaller\n",
      "Guess: 25. Count: 2. Add up: 25. The answer should be smaller\n",
      "Guess: 13. Count: 3. Add up: 12. The answer should be smaller\n",
      "Guess: 7. Count: 4. Add up: 6. The answer should be smaller\n",
      "Guess: 4. Count: 5. Add up: 3. The answer should be larger\n",
      "Guess: 5. Bingo! You got the right answer.\n",
      "The target number: 5. Total count: 6.\n"
     ]
    }
   ],
   "source": [
    "# Practice 1\n",
    "# Guess a random integer between 1 and 100\n",
    "import random\n",
    "\n",
    "target = random.randint(1, 100) # Generate a random integer\n",
    "count = 0 # Count how many times do we guess\n",
    "guess = 50 # The first guess should always be placed in the middle\n",
    "add_up = 50 # The number we add or minus each time\n",
    "while True:\n",
    "    count += 1 # Cound add 1 for each iteration\n",
    "    if guess < target:\n",
    "        print('Guess: {}. Count: {}. Add up: {}. The answer should be larger'\\\n",
    "              .format(guess, count, add_up))\n",
    "        if add_up > 1: # Make sure we add at least 1 each time\n",
    "            add_up //= 2\n",
    "        guess += add_up\n",
    "        continue\n",
    "    elif guess > target:\n",
    "        print('Guess: {}. Count: {}. Add up: {}. The answer should be smaller'\\\n",
    "              .format(guess, count, add_up))\n",
    "        if add_up > 1: # Make sure we exclude at least 1 each time\n",
    "            add_up //= 2\n",
    "        guess -= add_up\n",
    "        continue\n",
    "    else:\n",
    "        print('Guess: {}. Bingo! You got the right answer.'.format(guess))\n",
    "        break\n",
    "print('The target number: {}. Total count: {}.'.format(target, count))"
   ]
  },
  {
   "cell_type": "markdown",
   "metadata": {},
   "source": [
    "**Practice 2**: Generate a 9-by-9 multiplication table."
   ]
  },
  {
   "cell_type": "code",
   "execution_count": 101,
   "metadata": {},
   "outputs": [
    {
     "name": "stdout",
     "output_type": "stream",
     "text": [
      "[1, 2, 3, 4, 5, 6, 7, 8, 9]\n",
      "[2, 4, 6, 8, 10, 12, 14, 16, 18]\n",
      "[3, 6, 9, 12, 15, 18, 21, 24, 27]\n",
      "[4, 8, 12, 16, 20, 24, 28, 32, 36]\n",
      "[5, 10, 15, 20, 25, 30, 35, 40, 45]\n",
      "[6, 12, 18, 24, 30, 36, 42, 48, 54]\n",
      "[7, 14, 21, 28, 35, 42, 49, 56, 63]\n",
      "[8, 16, 24, 32, 40, 48, 56, 64, 72]\n",
      "[9, 18, 27, 36, 45, 54, 63, 72, 81]\n"
     ]
    }
   ],
   "source": [
    "# Practice 2\n",
    "# Generate a 9-by-9 multiplication table\n",
    "results = [[] for i in range(9)]\n",
    "for i in range(1, 10): # from 1 to 9\n",
    "    for j in range(1, 10):\n",
    "        results[i-1].append(i * j)\n",
    "print(*results, sep='\\n')"
   ]
  },
  {
   "cell_type": "code",
   "execution_count": 5,
   "metadata": {},
   "outputs": [
    {
     "name": "stdout",
     "output_type": "stream",
     "text": [
      "9 is not a prime\n",
      "11 is a prime\n",
      "20 is not a prime\n",
      "Please use a positive integer!\n",
      "Please use an integer!\n"
     ]
    }
   ],
   "source": [
    "# Exercise 1\n",
    "# Given a natural number, determine if it's prime\n",
    "# This solution contains a validator\n",
    "from math import sqrt\n",
    "def is_prime(number):\n",
    "    if type(number) != int:\n",
    "        print('Please use an integer!')\n",
    "    else:\n",
    "        if number < 1:\n",
    "            print('Please use a positive integer!')\n",
    "        elif number == 1:\n",
    "            print('{} is a prime number!'.format(number))\n",
    "        else:\n",
    "            is_prime = True\n",
    "            for i in range(2, int(sqrt(number)) + 1):\n",
    "                if number % i == 0:\n",
    "                    is_prime = False\n",
    "                    print('{} is not a prime'.format(number))\n",
    "                    break\n",
    "            if is_prime:\n",
    "                print('{} is a prime'.format(number))\n",
    "\n",
    "# Test\n",
    "is_prime(9)\n",
    "is_prime(11)\n",
    "is_prime(20)\n",
    "is_prime(0)\n",
    "is_prime('HAHA')"
   ]
  },
  {
   "cell_type": "code",
   "execution_count": 133,
   "metadata": {},
   "outputs": [
    {
     "name": "stdout",
     "output_type": "stream",
     "text": [
      "Please use integer!\n",
      "Please use positive numbers!\n",
      "The greatest common divisor is 4. The lowest common multiple is 240\n",
      "The greatest common divisor is 1. The lowest common multiple is 133\n"
     ]
    }
   ],
   "source": [
    "# Exercise 2\n",
    "# Given two natural numbers, calculate their greatest common divisor (gcd)\n",
    "# and their lowest common multiple (lcm)\n",
    "# This solution contains a validator\n",
    "def gcd_lcm(number_1, number_2):\n",
    "    if type(number_1) != int or type(number_2) != int:\n",
    "        print('Please use integer!')\n",
    "    else:\n",
    "        if number_1 < 1 or number_2 < 1:\n",
    "            print('Please use positive numbers!')\n",
    "        elif number_1 > number_2:\n",
    "            number_1, number_2 = number_2, number_1 # Use the smaller number for iternation\n",
    "        for divisor in range(number_1, 0, -1):\n",
    "            if number_1 % divisor == 0 and number_2 % divisor == 0:\n",
    "                print('The greatest common divisor is {}. The lowest common multiple is {}'.\\\n",
    "                      format(divisor, number_1 * number_2 // divisor))\n",
    "                break\n",
    "# Test\n",
    "gcd_lcm(True, 20)\n",
    "gcd_lcm(-4, 38)\n",
    "gcd_lcm(80, 12)\n",
    "gcd_lcm(7, 19)"
   ]
  },
  {
   "cell_type": "code",
   "execution_count": 149,
   "metadata": {},
   "outputs": [
    {
     "name": "stdout",
     "output_type": "stream",
     "text": [
      "*\n",
      "**\n",
      "***\n",
      "****\n",
      "*****\n"
     ]
    }
   ],
   "source": [
    "# Exercise 3\n",
    "# Print the following figures\n",
    "# *\n",
    "# **\n",
    "# ***\n",
    "# ****\n",
    "# *****\n",
    "star = '*'\n",
    "for i in range(1, 6):\n",
    "    print(star * i)\n"
   ]
  },
  {
   "cell_type": "code",
   "execution_count": 143,
   "metadata": {},
   "outputs": [
    {
     "name": "stdout",
     "output_type": "stream",
     "text": [
      "    *\n",
      "   **\n",
      "  ***\n",
      " ****\n",
      "*****\n"
     ]
    }
   ],
   "source": [
    "# *****\n",
    "# ****\n",
    "# ***\n",
    "# **\n",
    "# *\n",
    "star = '*'\n",
    "space = ' '\n",
    "for i in range(1, 6):\n",
    "    print(space * (5 - i) + star * i)"
   ]
  },
  {
   "cell_type": "code",
   "execution_count": 150,
   "metadata": {},
   "outputs": [
    {
     "name": "stdout",
     "output_type": "stream",
     "text": [
      "    *\n",
      "   ***\n",
      "  *****\n",
      " *******\n",
      "*********\n"
     ]
    }
   ],
   "source": [
    "#     *\n",
    "#    ***\n",
    "#   *****\n",
    "#  *******\n",
    "# *********\n",
    "star = '*'\n",
    "space = ' '\n",
    "for i in range(1, 6):\n",
    "    print(space * (5 - i) + star * (2 * i - 1))"
   ]
  }
 ],
 "metadata": {
  "kernelspec": {
   "display_name": "Python 3.8.2 64-bit",
   "language": "python",
   "name": "python38264bit7e3c702f16764767914e1c3a23341f94"
  },
  "language_info": {
   "codemirror_mode": {
    "name": "ipython",
    "version": 3
   },
   "file_extension": ".py",
   "mimetype": "text/x-python",
   "name": "python",
   "nbconvert_exporter": "python",
   "pygments_lexer": "ipython3",
   "version": "3.8.2"
  }
 },
 "nbformat": 4,
 "nbformat_minor": 2
}
