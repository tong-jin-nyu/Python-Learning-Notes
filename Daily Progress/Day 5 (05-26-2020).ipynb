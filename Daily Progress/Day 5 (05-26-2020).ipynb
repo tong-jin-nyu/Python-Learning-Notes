{
 "cells": [
  {
   "cell_type": "markdown",
   "metadata": {},
   "source": [
    "# Python Learning Notes - Daily Log"
   ]
  },
  {
   "cell_type": "markdown",
   "metadata": {},
   "source": [
    "## 05/26/2020"
   ]
  },
  {
   "cell_type": "markdown",
   "metadata": {},
   "source": [
    "### Daily Objects\n",
    "\n",
    "1. Python-100-days: Day 5\n",
    "\n",
    "2. *Beginning Python*: Read Chapter 3\n",
    "\n",
    "3. *Python Programming*: Read Chapter 1\n",
    "\n",
    "### Progress\n",
    "\n",
    "1. Complete Day 5\n",
    "\n",
    "2. Read *Python Programming* Chapter 1"
   ]
  },
  {
   "cell_type": "markdown",
   "metadata": {},
   "source": [
    "### Notes\n",
    "\n",
    "#### Python-100-days: Logic Programming\n",
    "\n",
    "1. Translate human logics to Python \n",
    "\n",
    "**Practice 1:** Find all Narcissistic numbers from 100 to 999"
   ]
  },
  {
   "cell_type": "code",
   "execution_count": 1,
   "metadata": {},
   "outputs": [
    {
     "name": "stdout",
     "output_type": "stream",
     "text": [
      "153\n",
      "370\n",
      "371\n",
      "407\n",
      "Total count: 4\n"
     ]
    }
   ],
   "source": [
    "# Practice 1\n",
    "count = 0\n",
    "for number in range(100, 1000): # e.g: number = 985\n",
    "    n_3 = number // 100         # 985 // 100 = 9\n",
    "    n_2 = number // 10 % 10     # 985 // 10 = 98, 98 % 10 = 8\n",
    "    n_1 = number % 10          # 985 % 10 = 5\n",
    "    if n_3 ** 3 + n_2 ** 3 + n_1 ** 3 == number:\n",
    "        count += 1\n",
    "        print(number)\n",
    "print('Total count: {}'.format(count))"
   ]
  },
  {
   "cell_type": "markdown",
   "metadata": {},
   "source": [
    "**Practice 2:** Reverse a positive integer\n",
    "\n",
    "For example: 12345 to 54321"
   ]
  },
  {
   "cell_type": "code",
   "execution_count": 2,
   "metadata": {},
   "outputs": [
    {
     "name": "stdout",
     "output_type": "stream",
     "text": [
      "Please enter an integer!\n",
      "Please enter a positive integer!\n",
      "5791\n"
     ]
    }
   ],
   "source": [
    "# Practice 2\n",
    "def reversed_num(number):\n",
    "    if type(number) != int:\n",
    "        print('Please enter an integer!')\n",
    "    elif number <= 0:\n",
    "        print('Please enter a positive integer!')\n",
    "    else:\n",
    "        reversed_num = 0\n",
    "        while number > 0:\n",
    "            reversed_num = reversed_num * 10 + number % 10\n",
    "            number //= 10\n",
    "        print(reversed_num)\n",
    "# Test\n",
    "reversed_num('Not a number')\n",
    "reversed_num(-2345)\n",
    "reversed_num(1975)"
   ]
  },
  {
   "cell_type": "markdown",
   "metadata": {},
   "source": [
    " **Practice 3:** A hundred coins, a hundred chicken\n",
    " \n",
    " 5 coins per male chicken\n",
    " \n",
    " 3 coins per female chicken\n",
    " \n",
    " 1 coin per three baby chicken\n",
    " \n",
    " You will use 100 coins to purchase 100 chicken. How many chicken can you buy?"
   ]
  },
  {
   "cell_type": "code",
   "execution_count": 3,
   "metadata": {},
   "outputs": [
    {
     "name": "stdout",
     "output_type": "stream",
     "text": [
      "Male: 0 Female: 25 Baby: 75\n",
      "Male: 4 Female: 18 Baby: 78\n",
      "Male: 8 Female: 11 Baby: 81\n",
      "Male: 12 Female: 4 Baby: 84\n"
     ]
    }
   ],
   "source": [
    "# Practice 3\n",
    "# Solution: brute force\n",
    "for n_male in range(0, 21):\n",
    "    for n_female in range(0, 34):\n",
    "        n_baby = 100 - n_male - n_female\n",
    "        if 5 * n_male + 3 * n_female + n_baby / 3 == 100:\n",
    "            print('Male: {} Female: {} Baby: {}'.format(n_male, n_female, n_baby))"
   ]
  },
  {
   "cell_type": "markdown",
   "metadata": {},
   "source": [
    "**Practice 4:** [Craps](https://en.wikipedia.org/wiki/Craps)\n",
    "\n",
    "1. Roll two dices\n",
    "\n",
    "2. For the first roll:\n",
    "\n",
    "  a. if 7 or 11, player win.\n",
    "  \n",
    "  b. if 2, 3 or 12, house win.\n",
    "  \n",
    "  c. if other results, keep rolling until:\n",
    "  \n",
    "    i. 7, house win.\n",
    "    \n",
    "    ii. The number player rolled at the first time, player win.\n",
    "    \n",
    "3. Simulate 1000 rounds and record the performance."
   ]
  },
  {
   "cell_type": "code",
   "execution_count": 130,
   "metadata": {},
   "outputs": [
    {
     "name": "stdout",
     "output_type": "stream",
     "text": [
      "Number of wins: 499 Number of loses: 501\n"
     ]
    }
   ],
   "source": [
    "# Practice 4\n",
    "# Simulate 1000 rounds\n",
    "from random import randint\n",
    "# Build a fair dice\n",
    "def dice(): \n",
    "    return(randint(1, 6) + randint(1, 6))\n",
    "n_win = 0\n",
    "n_lose = 0\n",
    "win_number = [7, 11]\n",
    "lose_number = [2, 3, 12]\n",
    "\n",
    "for n in range(1, 1001):\n",
    "    roll_die = dice()\n",
    "    if roll_die in win_number:\n",
    "        n_win += 1\n",
    "        n += 1\n",
    "    elif roll_die in lose_number:\n",
    "        n_lose += 1\n",
    "        n += 1\n",
    "    else:\n",
    "        while True:\n",
    "            roll_die_again = dice()\n",
    "            if roll_die_again == 7:\n",
    "                n_lose += 1\n",
    "                n += 1\n",
    "                break\n",
    "            elif roll_die_again == roll_die:\n",
    "                n_win += 1\n",
    "                n += 1\n",
    "                break\n",
    "print('Number of wins: {} Number of loses: {}'.format(n_win, n_lose))"
   ]
  },
  {
   "cell_type": "markdown",
   "metadata": {},
   "source": [
    "#### Exercises\n",
    "\n",
    "Exercise 1: Fibonacci sequence\n",
    "\n",
    "Exercise 2: Find perfect numbers below 10,000\n",
    "\n",
    "Exercise 3: Print prime numbers below 100"
   ]
  },
  {
   "cell_type": "code",
   "execution_count": 99,
   "metadata": {},
   "outputs": [
    {
     "name": "stdout",
     "output_type": "stream",
     "text": [
      "[1, 1, 2, 3, 5, 8, 13, 21, 34, 55, 89, 144, 233, 377, 610, 987, 1597, 2584, 4181, 6765]\n"
     ]
    }
   ],
   "source": [
    "# Exercise 1\n",
    "# Get the first 20 numbers in a Fibonacci sequence\n",
    "seq = [1, 1]\n",
    "for i in range(2, 20):\n",
    "    seq.append(seq[i-2] + seq[i-1])\n",
    "print(seq)"
   ]
  },
  {
   "cell_type": "code",
   "execution_count": 98,
   "metadata": {},
   "outputs": [
    {
     "name": "stdout",
     "output_type": "stream",
     "text": [
      "1 1 2 3 5 8 13 21 34 55 89 144 233 377 610 987 1597 2584 4181 6765 "
     ]
    }
   ],
   "source": [
    "# Exercise 1\n",
    "# Reference\n",
    "a = 0\n",
    "b = 1\n",
    "for _ in range(20):\n",
    "    a, b = b, a + b\n",
    "    print(a, end=' ')"
   ]
  },
  {
   "cell_type": "code",
   "execution_count": 107,
   "metadata": {},
   "outputs": [
    {
     "name": "stdout",
     "output_type": "stream",
     "text": [
      "1\n",
      "6\n",
      "28\n",
      "496\n",
      "8128\n"
     ]
    }
   ],
   "source": [
    "# Exercise 2\n",
    "# Find perfect numbers below 10,000\n",
    "n = 1\n",
    "seq = [1] # Apparently, 1 is a perfect number\n",
    "while n < 10000:\n",
    "    for i in range(1, n):\n",
    "        if n % i == 0:\n",
    "            seq.append(i)\n",
    "    if sum(seq) == n:\n",
    "        print(n)\n",
    "    seq = []\n",
    "    n += 1"
   ]
  },
  {
   "cell_type": "code",
   "execution_count": 100,
   "metadata": {},
   "outputs": [
    {
     "name": "stdout",
     "output_type": "stream",
     "text": [
      "1\n",
      "6\n",
      "28\n",
      "496\n",
      "8128\n"
     ]
    }
   ],
   "source": [
    "# Exercise 2\n",
    "# Reference\n",
    "import math\n",
    "\n",
    "for num in range(1, 10000):\n",
    "    result = 0\n",
    "    for factor in range(1, int(math.sqrt(num)) + 1):\n",
    "        if num % factor == 0:\n",
    "            result += factor\n",
    "            if factor > 1 and num // factor != factor:\n",
    "                result += num // factor\n",
    "    if result == num:\n",
    "        print(num)"
   ]
  },
  {
   "cell_type": "code",
   "execution_count": 128,
   "metadata": {},
   "outputs": [
    {
     "name": "stdout",
     "output_type": "stream",
     "text": [
      "[2, 3, 5, 7, 11, 13, 17, 19, 23, 29, 31, 37, 41, 43, 47, 53, 59, 61, 67, 71, 73, 79, 83, 89, 97]\n"
     ]
    }
   ],
   "source": [
    "# Exercise 3\n",
    "# Find prime numbers below 100\n",
    "from math import sqrt\n",
    "\n",
    "seq = []\n",
    "for n in range(2, 101):\n",
    "    is_prime = True\n",
    "    for i in range(2, int(sqrt(n)) + 1):\n",
    "        if n % i == 0:\n",
    "            is_prime = False\n",
    "            break\n",
    "    if is_prime:\n",
    "        seq.append(n)\n",
    "print(seq)"
   ]
  },
  {
   "cell_type": "code",
   "execution_count": 129,
   "metadata": {},
   "outputs": [
    {
     "name": "stdout",
     "output_type": "stream",
     "text": [
      "2 3 5 7 11 13 17 19 23 29 31 37 41 43 47 53 59 61 67 71 73 79 83 89 97 "
     ]
    }
   ],
   "source": [
    "# Exercise 3 \n",
    "# Reference\n",
    "import math\n",
    "\n",
    "for num in range(2, 100):\n",
    "    is_prime = True\n",
    "    for factor in range(2, int(math.sqrt(num)) + 1):\n",
    "        if num % factor == 0:\n",
    "            is_prime = False\n",
    "            break\n",
    "    if is_prime:\n",
    "        print(num, end=' ')"
   ]
  },
  {
   "cell_type": "markdown",
   "metadata": {},
   "source": [
    "#### Python Programming: An Introduction To Computer Science, Third Edition"
   ]
  },
  {
   "cell_type": "markdown",
   "metadata": {},
   "source": [
    "Chapter 1\n",
    "\n",
    "Every structure in a programming language has a precise form (its syntax) and a precise meaning (its semantics). A programming language is something like a code for writing down the instructions that a computer will follow. \n",
    "\n",
    "The difference between interpreting and compiling is that compiling is a one-shot translation; **once a program is compiled, it may be run over and over again without further need for the compiler or the source code. In the interpreted case, the interpreter and the source are needed every time the program runs.** Compiled programs tend to be faster, since the translation is done once and for all, but interpreted languages lend themselves to a more flexible programming environment as programs can be developed and run interactively.\n",
    "\n"
   ]
  }
 ],
 "metadata": {
  "kernelspec": {
   "display_name": "Python 3.8.2 64-bit",
   "language": "python",
   "name": "python38264bit7e3c702f16764767914e1c3a23341f94"
  },
  "language_info": {
   "codemirror_mode": {
    "name": "ipython",
    "version": 3
   },
   "file_extension": ".py",
   "mimetype": "text/x-python",
   "name": "python",
   "nbconvert_exporter": "python",
   "pygments_lexer": "ipython3",
   "version": "3.8.2"
  }
 },
 "nbformat": 4,
 "nbformat_minor": 2
}
