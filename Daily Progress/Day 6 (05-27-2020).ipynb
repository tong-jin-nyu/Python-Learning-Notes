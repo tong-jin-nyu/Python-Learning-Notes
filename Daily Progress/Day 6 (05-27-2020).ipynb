{
 "cells": [
  {
   "cell_type": "markdown",
   "metadata": {},
   "source": [
    "# Python Learning Notes - Daily Log"
   ]
  },
  {
   "cell_type": "markdown",
   "metadata": {},
   "source": [
    "## 05/27/2020"
   ]
  },
  {
   "cell_type": "markdown",
   "metadata": {},
   "source": [
    "### Daily Objects\n",
    "\n",
    "1. Python-100-days: Day 6\n",
    "\n",
    "2. *Beginning Python*: Read Chapter 3\n",
    "\n",
    "3. *Python Programming*: Read Chapter 1\n",
    "\n",
    "### Progress\n",
    "\n",
    "1. Complete Day 6\n",
    "\n",
    "2. *Python Programming*: Read Chapter 1\n"
   ]
  },
  {
   "cell_type": "markdown",
   "metadata": {},
   "source": [
    "### Notes\n",
    "\n",
    "#### Python-100-days: Functions and modules\n",
    "\n",
    "1. How many natural solutions?\n",
    "\n",
    "$$\n",
    "x_1 + x_2 + x_3 + x_4 = 8\n",
    "$$\n",
    "\n",
    "**Choose 3 numbers from 7 slots.**"
   ]
  },
  {
   "cell_type": "code",
   "execution_count": 1,
   "metadata": {},
   "outputs": [
    {
     "data": {
      "text/plain": [
       "35"
      ]
     },
     "execution_count": 1,
     "metadata": {},
     "output_type": "execute_result"
    }
   ],
   "source": [
    "# Solution 1\n",
    "import math\n",
    "\n",
    "def nCr(n, r):\n",
    "    f = math.factorial\n",
    "    return f(n) // f(r) // f(n - r)\n",
    "\n",
    "nCr(7, 3)"
   ]
  },
  {
   "cell_type": "code",
   "execution_count": 2,
   "metadata": {},
   "outputs": [
    {
     "name": "stdout",
     "output_type": "stream",
     "text": [
      "35\n"
     ]
    }
   ],
   "source": [
    "# Solution 2\n",
    "def mCn(m, n):\n",
    "    fm = 1\n",
    "    fn = 1\n",
    "    fm_n = 1\n",
    "    for number in range(1, m + 1):\n",
    "        fm *= number\n",
    "    for number in range(1, n + 1):\n",
    "        fn *= number\n",
    "    for number in range(1, m - n + 1):\n",
    "        fm_n *= number\n",
    "    print(fm // fn // fm_n)\n",
    "\n",
    "mCn(7, 3)"
   ]
  },
  {
   "cell_type": "markdown",
   "metadata": {},
   "source": [
    "*Solution 1* is better than *Solution 2* because the function of computing factorial is packed in a function (`math.factorial`) so that we don't need to repeatedly call the same function. Here is an example: *Solution 3*"
   ]
  },
  {
   "cell_type": "code",
   "execution_count": 3,
   "metadata": {},
   "outputs": [
    {
     "name": "stdout",
     "output_type": "stream",
     "text": [
      "35\n"
     ]
    }
   ],
   "source": [
    "# Solution 3\n",
    "def get_fac(number):\n",
    "    result = 1\n",
    "    for n in range(1, number + 1):\n",
    "        result *= n\n",
    "    return result\n",
    "\n",
    "m = 7\n",
    "n = 3\n",
    "print(get_fac(7) // get_fac(3) // get_fac(7 - 3))"
   ]
  },
  {
   "cell_type": "markdown",
   "metadata": {},
   "source": [
    "2. Function features\n",
    "\n",
    "  a. **Default values**: We can assign default values to variables in a function. When calling the function, we can change the value and the order of the default variables. This is very similar to R.\n",
    "  \n",
    "  b. **Changable values**: To make a variable changable, add a `*` in front of it, like: `*args`."
   ]
  },
  {
   "cell_type": "code",
   "execution_count": 4,
   "metadata": {},
   "outputs": [
    {
     "name": "stdout",
     "output_type": "stream",
     "text": [
      "5\n",
      "20\n",
      "19\n"
     ]
    }
   ],
   "source": [
    "# Example 1\n",
    "def add(*args):\n",
    "    total = 0\n",
    "    for value in args:\n",
    "        total += value\n",
    "    return total\n",
    "\n",
    "# Test\n",
    "print(add(5))\n",
    "print(add(5, 15))\n",
    "print(add(1, 4, 6, 8))"
   ]
  },
  {
   "cell_type": "markdown",
   "metadata": {},
   "source": [
    "3. Manage functions using modules\n",
    "\n",
    "  a. Each Python file is a module.\n",
    "  \n",
    "  b. To call functions with same names, store those functions in different modules (files) and then import them to a new module (file):\n",
    "  \n",
    "``` python\n",
    "import module1 as m1\n",
    "import module2 as m2\n",
    "\n",
    "m1.foo()\n",
    "m2.foo()\n",
    "```\n",
    "\n",
    "  c. `__name__` is a built-in variable which evaluates to the name of the current module. Use an if statement to determine if a module is executed directly.\n",
    "\n",
    "``` python\n",
    "if __name__ == '__main__':\n",
    "    do_something\n",
    "```"
   ]
  },
  {
   "cell_type": "code",
   "execution_count": 5,
   "metadata": {},
   "outputs": [
    {
     "name": "stdout",
     "output_type": "stream",
     "text": [
      "4\n",
      "60\n"
     ]
    }
   ],
   "source": [
    "# Exercise 1\n",
    "# Calculate the greatest common divisor and the lowest common multipler\n",
    "def gcd(x, y):\n",
    "    \"\"\"Calculate the greatest common divisor\"\"\"\n",
    "    if x > y:\n",
    "        x, y = y, x\n",
    "    for factor in range(x, 0, -1):\n",
    "        if x % factor == 0 and y % factor == 0:\n",
    "            return factor\n",
    "\n",
    "def lcm(x, y):\n",
    "    \"\"\"Calculate the lowest common multipler\"\"\"\n",
    "    return x * y // gcd(x, y)\n",
    "\n",
    "# Test\n",
    "print(gcd(12, 32))\n",
    "print(lcm(12, 30))"
   ]
  },
  {
   "cell_type": "code",
   "execution_count": 6,
   "metadata": {},
   "outputs": [
    {
     "name": "stdout",
     "output_type": "stream",
     "text": [
      "True\n",
      "False\n"
     ]
    }
   ],
   "source": [
    "# Exercise 2\n",
    "# Determine if a number is palindromic\n",
    "def is_palindromic(number):\n",
    "    as_string = str(number)\n",
    "    as_number = int(as_string[::-1])\n",
    "    if as_number == number:\n",
    "        return True\n",
    "    else:\n",
    "        return False\n",
    "                    \n",
    "# Test\n",
    "print(is_palindromic(33))\n",
    "print(is_palindromic(253))"
   ]
  },
  {
   "cell_type": "code",
   "execution_count": 7,
   "metadata": {},
   "outputs": [
    {
     "name": "stdout",
     "output_type": "stream",
     "text": [
      "True\n",
      "False\n"
     ]
    }
   ],
   "source": [
    "# Exercise 2\n",
    "# Reference\n",
    "def is_palindrome(num):\n",
    "    temp = num\n",
    "    total = 0\n",
    "    while temp > 0:\n",
    "        total = total * 10 + temp % 10\n",
    "        temp //= 10\n",
    "    return total == num\n",
    "\n",
    "# Test\n",
    "print(is_palindrome(33))\n",
    "print(is_palindrome(253))"
   ]
  },
  {
   "cell_type": "code",
   "execution_count": 8,
   "metadata": {},
   "outputs": [
    {
     "name": "stdout",
     "output_type": "stream",
     "text": [
      "True\n",
      "False\n",
      "False\n"
     ]
    }
   ],
   "source": [
    "# Exercise 3\n",
    "# Determine if a number is prime\n",
    "def is_prime(number):\n",
    "    if number <= 1:\n",
    "        return False\n",
    "    else:\n",
    "        is_prime = True\n",
    "        for i in range(2, int(number ** 0.5) + 1):\n",
    "            if number % i == 0:\n",
    "                is_prime = False\n",
    "        if is_prime == True:\n",
    "            return True\n",
    "        else:\n",
    "            return False\n",
    "\n",
    "# Test\n",
    "print(is_prime(13))\n",
    "print(is_prime(9))\n",
    "print(is_prime(-4))"
   ]
  },
  {
   "cell_type": "code",
   "execution_count": 9,
   "metadata": {},
   "outputs": [
    {
     "name": "stdout",
     "output_type": "stream",
     "text": [
      "True\n",
      "False\n"
     ]
    }
   ],
   "source": [
    "# Exercise 3\n",
    "# Reference\n",
    "def is_prime(num):\n",
    "    for factor in range(2, int(num ** 0.5) + 1):\n",
    "        if num % factor == 0:\n",
    "            return False\n",
    "    return True if num != 1 else False\n",
    "\n",
    "# Test\n",
    "print(is_prime(13))\n",
    "print(is_prime(9))\n",
    "# print(is_prime(-4)) [error]: can't convert complex to int\n",
    "# need to validate if input is positive"
   ]
  },
  {
   "cell_type": "code",
   "execution_count": 10,
   "metadata": {},
   "outputs": [
    {
     "name": "stdout",
     "output_type": "stream",
     "text": [
      "13 is not a palindromic prime!\n",
      "131 is a palindromic prime!\n"
     ]
    }
   ],
   "source": [
    "# Exercise 4\n",
    "# Determine if a natural number is palindromic prime\n",
    "def is_palindromic_prime(number):\n",
    "    if __name__ == '__main__':\n",
    "        if is_palindromic(number) and is_prime(number):\n",
    "            print('{} is a palindromic prime!'.format(number))\n",
    "        else:\n",
    "            print('{} is not a palindromic prime!'.format(number))\n",
    "            \n",
    "# Test\n",
    "is_palindromic_prime(13)\n",
    "is_palindromic_prime(131)"
   ]
  },
  {
   "cell_type": "markdown",
   "metadata": {},
   "source": [
    "4. Variable scopes\n",
    "\n",
    "  a. Global variables\n",
    "  \n",
    "  b. Local variables"
   ]
  },
  {
   "cell_type": "code",
   "execution_count": 11,
   "metadata": {},
   "outputs": [
    {
     "name": "stdout",
     "output_type": "stream",
     "text": [
      "100\n",
      "hello\n",
      "True\n"
     ]
    }
   ],
   "source": [
    "# Define local variables inside the function\n",
    "def foo():\n",
    "    b = 'hello'\n",
    "    \n",
    "    # Define a nested function\n",
    "    def bar():\n",
    "        c = True\n",
    "        print(a)\n",
    "        print(b)\n",
    "        print(c)\n",
    "        \n",
    "    bar()\n",
    "\n",
    "# Glocal variables\n",
    "if __name__ == '__main__':\n",
    "    a = 100\n",
    "    foo()"
   ]
  },
  {
   "cell_type": "markdown",
   "metadata": {},
   "source": [
    "5. Change global variables locally\n",
    "\n",
    "  a. `global var_name`: **in real-world development, avoid call glocal variables too many times. This is because:**\n",
    "  \n",
    "    - Increase suitability: [Law of Demeter](https://en.wikipedia.org/wiki/Law_of_Demeter): \n",
    "\n",
    "      i. Each unit should have only limited knowledge about other units: only units \"closely\" related to the current unit.\n",
    "  \n",
    "      ii. Each unit should only talk to its friends; don't talk to strangers.\n",
    "  \n",
    "      iii. Only talk to your immediate friends.\n",
    "  \n",
    "    - Global variables have larger longevity than locals and they will affect [garbage collection](https://en.wikipedia.org/wiki/Garbage_collection_(computer_science))\n",
    "    \n",
    "  \n",
    "  b. `nonlocal var_name`"
   ]
  },
  {
   "cell_type": "code",
   "execution_count": 12,
   "metadata": {},
   "outputs": [
    {
     "name": "stdout",
     "output_type": "stream",
     "text": [
      "200\n"
     ]
    }
   ],
   "source": [
    "# Change glocal variable a; if non-exist, create one\n",
    "a = 100\n",
    "\n",
    "def foo():\n",
    "    global a\n",
    "    a = 200\n",
    "    print(a)\n",
    "    \n",
    "# Test\n",
    "foo()"
   ]
  },
  {
   "cell_type": "code",
   "execution_count": 13,
   "metadata": {},
   "outputs": [
    {
     "name": "stdout",
     "output_type": "stream",
     "text": [
      "100\n"
     ]
    }
   ],
   "source": [
    "# Change nested variable a\n",
    "def foo():\n",
    "    a = 200\n",
    "    \n",
    "    def bar():\n",
    "        nonlocal a\n",
    "        a = 100\n",
    "        print(a)\n",
    "        \n",
    "    bar()\n",
    "\n",
    "# Test\n",
    "foo()"
   ]
  },
  {
   "cell_type": "markdown",
   "metadata": {},
   "source": [
    "6. Outcomes: learn how to write the `main` function\n",
    "\n",
    "``` python\n",
    "def main():\n",
    "    # Add your code here\n",
    "    pass\n",
    "\n",
    "if __name__ == '__main__':\n",
    "    main()\n",
    "```\n",
    "\n",
    "We can create a `main()` function to store \"global\" variables locally, and execute the function when needed using an if statement."
   ]
  }
 ],
 "metadata": {
  "kernelspec": {
   "display_name": "Python 3.8.2 64-bit",
   "language": "python",
   "name": "python38264bit7e3c702f16764767914e1c3a23341f94"
  },
  "language_info": {
   "codemirror_mode": {
    "name": "ipython",
    "version": 3
   },
   "file_extension": ".py",
   "mimetype": "text/x-python",
   "name": "python",
   "nbconvert_exporter": "python",
   "pygments_lexer": "ipython3",
   "version": "3.8.2"
  }
 },
 "nbformat": 4,
 "nbformat_minor": 2
}
