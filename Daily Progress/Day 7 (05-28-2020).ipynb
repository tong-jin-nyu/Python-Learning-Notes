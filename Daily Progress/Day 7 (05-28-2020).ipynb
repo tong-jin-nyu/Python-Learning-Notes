{
 "cells": [
  {
   "cell_type": "markdown",
   "metadata": {},
   "source": [
    "# Python Learning Notes - Daily Log"
   ]
  },
  {
   "cell_type": "markdown",
   "metadata": {},
   "source": [
    "## 05/28/2020"
   ]
  },
  {
   "cell_type": "markdown",
   "metadata": {},
   "source": [
    "### Daily Objects\n",
    "\n",
    "1. Python-100-days: Day 7\n",
    "\n",
    "2. *Beginning Python*: Read Chapter 3\n",
    "\n",
    "3. *Python Programming*: Read Chapter 1\n",
    "\n",
    "### Progress\n",
    "\n",
    "1. Complete Day 6\n"
   ]
  },
  {
   "cell_type": "markdown",
   "metadata": {},
   "source": [
    "### Notes\n",
    "\n",
    "#### Python-100-days: Strings and common data structures\n",
    "\n",
    "1. String\n",
    "\n",
    "  $s = a_1 a_2 ... a_n (0 \\leq n \\leq \\infty)$\n",
    "  \n",
    "  a. Strings are wrapped in quotes. Three quotes: line breaks\n",
    "  \n",
    "  b. Use back-slash `\\` to transfer meanings\n",
    "  \n",
    "  c. Add `r` in front of a string to prevent back-slach from transferring meanings."
   ]
  },
  {
   "cell_type": "code",
   "execution_count": 6,
   "metadata": {},
   "outputs": [
    {
     "name": "stdout",
     "output_type": "stream",
     "text": [
      "hello, world! \n",
      "hello,\n",
      "world!\n",
      "'hello, world!'\n",
      "\n",
      "\\hello, world!\\\n",
      "\n",
      "\\'hello, world!\\'\n"
     ]
    }
   ],
   "source": [
    "s1 = 'hello, world!'\n",
    "s2 = \"\"\"\n",
    "hello,\n",
    "world!\n",
    "\"\"\"\n",
    "print(s1, s2, end='')\n",
    "\n",
    "s3 = '\\'hello, world!\\''\n",
    "s4 = '\\n\\\\hello, world!\\\\\\n'\n",
    "print(s3)\n",
    "print(s4)\n",
    "\n",
    "s5 = r'\\'hello, world!\\''\n",
    "print(s5)"
   ]
  },
  {
   "cell_type": "markdown",
   "metadata": {},
   "source": [
    "2. String operators\n",
    "\n",
    "  a. Append: `+`\n",
    "  \n",
    "  b. Repeat: `*`"
   ]
  }
 ],
 "metadata": {
  "kernelspec": {
   "display_name": "Python 3.8.2 64-bit",
   "language": "python",
   "name": "python38264bit7e3c702f16764767914e1c3a23341f94"
  },
  "language_info": {
   "codemirror_mode": {
    "name": "ipython",
    "version": 3
   },
   "file_extension": ".py",
   "mimetype": "text/x-python",
   "name": "python",
   "nbconvert_exporter": "python",
   "pygments_lexer": "ipython3",
   "version": "3.8.2"
  }
 },
 "nbformat": 4,
 "nbformat_minor": 2
}
