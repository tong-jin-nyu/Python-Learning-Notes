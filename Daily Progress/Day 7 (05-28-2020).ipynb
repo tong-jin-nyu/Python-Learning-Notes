{
 "cells": [
  {
   "cell_type": "markdown",
   "metadata": {},
   "source": [
    "# Python Learning Notes - Daily Log"
   ]
  },
  {
   "cell_type": "markdown",
   "metadata": {},
   "source": [
    "## 05/28/2020"
   ]
  },
  {
   "cell_type": "markdown",
   "metadata": {},
   "source": [
    "### Daily Objects\n",
    "\n",
    "1. Python-100-days: Day 7\n",
    "\n",
    "2. *Beginning Python*: Read Chapter 3\n",
    "\n",
    "3. *Python Programming*: Read Chapter 1\n",
    "\n",
    "### Progress\n",
    "\n",
    "1. Complete Day 6\n"
   ]
  },
  {
   "cell_type": "markdown",
   "metadata": {},
   "source": [
    "### Notes\n",
    "\n",
    "#### Python-100-days: Strings and common data structures\n",
    "\n",
    "1. String\n",
    "\n",
    "  $s = a_1 a_2 ... a_n (0 \\leq n \\leq \\infty)$\n",
    "  \n",
    "  a. Strings are wrapped in quotes. Three quotes: line breaks\n",
    "  \n",
    "  b. Use back-slash `\\` to transfer meanings\n",
    "  \n",
    "  c. Add `r` in front of a string to prevent back-slach from transferring meanings."
   ]
  },
  {
   "cell_type": "code",
   "execution_count": 6,
   "metadata": {},
   "outputs": [
    {
     "name": "stdout",
     "output_type": "stream",
     "text": [
      "hello, world! \n",
      "hello,\n",
      "world!\n",
      "'hello, world!'\n",
      "\n",
      "\\hello, world!\\\n",
      "\n",
      "\\'hello, world!\\'\n"
     ]
    }
   ],
   "source": [
    "s1 = 'hello, world!'\n",
    "s2 = \"\"\"\n",
    "hello,\n",
    "world!\n",
    "\"\"\"\n",
    "print(s1, s2, end='')\n",
    "\n",
    "s3 = '\\'hello, world!\\''\n",
    "s4 = '\\n\\\\hello, world!\\\\\\n'\n",
    "print(s3)\n",
    "print(s4)\n",
    "\n",
    "s5 = r'\\'hello, world!\\''\n",
    "print(s5)"
   ]
  },
  {
   "cell_type": "markdown",
   "metadata": {},
   "source": [
    "2. String operators\n",
    "\n",
    "  a. Append: `+`\n",
    "  \n",
    "  b. Repeat: `*`\n",
    "  \n",
    "  c. Membership: `in`, `not in`\n",
    "  \n",
    "  d. Slicing: `[]`, `[:]`"
   ]
  },
  {
   "cell_type": "code",
   "execution_count": 8,
   "metadata": {
    "scrolled": true
   },
   "outputs": [
    {
     "name": "stdout",
     "output_type": "stream",
     "text": [
      "234\n",
      "23456789\n",
      "2468\n",
      "02468\n",
      "9876543210\n",
      "57\n"
     ]
    }
   ],
   "source": [
    "str1 = '0123456789'\n",
    "print(str1[2:5])\n",
    "print(str1[2: ])\n",
    "print(str1[2: : 2])\n",
    "print(str1[: : 2])\n",
    "print(str1[: : -1])\n",
    "print(str1[-5:-1: 2])"
   ]
  },
  {
   "cell_type": "code",
   "execution_count": 11,
   "metadata": {},
   "outputs": [
    {
     "name": "stdout",
     "output_type": "stream",
     "text": [
      "13\n",
      "Hello, world!\n",
      "Hello, World!\n",
      "HELLO, WORLD!\n",
      "8\n",
      "8\n",
      "False\n",
      "True\n",
      "                  hello, world!                   \n",
      "                                     hello, world!\n",
      "False\n",
      "False\n",
      "False\n",
      "hello, world!\n"
     ]
    }
   ],
   "source": [
    "str2 = 'hello, world!'\n",
    "print(len(str2)) # Length, same as length() in R\n",
    "print(str2.capitalize()) # Capitalize, same as toupper() in R\n",
    "print(str2.title()) # Same as str_to_title() in R\n",
    "print(str2.upper()) # Same as str_to_upper() in R\n",
    "print(str2.find('or')) # Same as str_detect() in R\n",
    "print(str2.index('or')) # Same as str_match() in R\n",
    "print(str2.startswith('He')) # Same as str_match(pattern = ^...)\n",
    "print(str2.endswith('!')) # Same as str_match(pattern = ...$)\n",
    "print(str2.center(50, ' ')) # Move the string to the right by inserting x y times\n",
    "print(str2.rjust(50, ' ')) # Move the string from the right by inserting x y times at the right\n",
    "print(str2.isdigit()) # If the string contains digits only\n",
    "print(str2.isalpha()) # If the string contains letters only\n",
    "print(str2.isalnum()) # If the string contains digits or letters only\n",
    "\n",
    "str3 = '          hello, world!         '\n",
    "print(str3.strip()) # Same as trim() in R"
   ]
  },
  {
   "cell_type": "markdown",
   "metadata": {},
   "source": [
    "3. Formattable string"
   ]
  },
  {
   "cell_type": "code",
   "execution_count": 13,
   "metadata": {},
   "outputs": [
    {
     "name": "stdout",
     "output_type": "stream",
     "text": [
      "5 * 10 = 50\n",
      "5 * 10 = 50\n",
      "5 * 10 = 50\n"
     ]
    }
   ],
   "source": [
    "# Formattable string in three ways\n",
    "a, b = 5, 10\n",
    "print('%d * %d = %d' % (a, b, a * b))\n",
    "print('{0} * {1} = {2}'.format(a, b, a * b))\n",
    "print(f'{a} * {b} = {a * b}')"
   ]
  },
  {
   "cell_type": "markdown",
   "metadata": {},
   "source": [
    "4. Data structures\n",
    "\n",
    "**list, tuple, set and dictionary.**\n",
    "\n",
    "List\n",
    "\n",
    "  1. "
   ]
  }
 ],
 "metadata": {
  "kernelspec": {
   "display_name": "Python 3.8.2 64-bit",
   "language": "python",
   "name": "python38264bit7e3c702f16764767914e1c3a23341f94"
  },
  "language_info": {
   "codemirror_mode": {
    "name": "ipython",
    "version": 3
   },
   "file_extension": ".py",
   "mimetype": "text/x-python",
   "name": "python",
   "nbconvert_exporter": "python",
   "pygments_lexer": "ipython3",
   "version": "3.8.2"
  }
 },
 "nbformat": 4,
 "nbformat_minor": 2
}
