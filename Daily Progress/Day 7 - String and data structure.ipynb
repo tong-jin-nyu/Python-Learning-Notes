{
 "cells": [
  {
   "cell_type": "markdown",
   "metadata": {},
   "source": [
    "# Python Learning Notes\n",
    "\n",
    "## String and Data Structure"
   ]
  },
  {
   "cell_type": "markdown",
   "metadata": {},
   "source": [
    "## 05/28/2020"
   ]
  },
  {
   "cell_type": "markdown",
   "metadata": {},
   "source": [
    "### Daily Objects\n",
    "\n",
    "1. Python-100-days: Day 7\n",
    "\n",
    "2. *Beginning Python*: Read Chapter 3\n",
    "\n",
    "3. *Python Programming*: Read Chapter 1\n",
    "\n",
    "### Progress\n",
    "\n",
    "1. Python-100-days: Day 7 (80%)\n"
   ]
  },
  {
   "cell_type": "markdown",
   "metadata": {},
   "source": [
    "### Notes\n",
    "\n",
    "#### Python-100-days: Strings and common data structures\n",
    "\n",
    "1. String\n",
    "\n",
    "  $s = a_1 a_2 ... a_n (0 \\leq n \\leq \\infty)$\n",
    "  \n",
    "  a. Strings are wrapped in quotes. Three quotes: line breaks\n",
    "  \n",
    "  b. Use back-slash `\\` to transfer meanings\n",
    "  \n",
    "  c. Add `r` in front of a string to prevent back-slach from transferring meanings."
   ]
  },
  {
   "cell_type": "code",
   "execution_count": 2,
   "metadata": {},
   "outputs": [
    {
     "name": "stdout",
     "output_type": "stream",
     "text": [
      "hello, world! \n",
      "hello,\n",
      "world!\n",
      "'hello, world!'\n",
      "\n",
      "\\hello, world!\\\n",
      "\n",
      "\\'hello, world!\\'\n"
     ]
    }
   ],
   "source": [
    "s1 = 'hello, world!'\n",
    "s2 = \"\"\"\n",
    "hello,\n",
    "world!\n",
    "\"\"\"\n",
    "print(s1, s2, end='')\n",
    "\n",
    "s3 = '\\'hello, world!\\''\n",
    "s4 = '\\n\\\\hello, world!\\\\\\n'\n",
    "print(s3)\n",
    "print(s4)\n",
    "\n",
    "s5 = r'\\'hello, world!\\''\n",
    "print(s5)"
   ]
  },
  {
   "cell_type": "markdown",
   "metadata": {},
   "source": [
    "2. String operators\n",
    "\n",
    "  a. Append: `+`\n",
    "  \n",
    "  b. Repeat: `*`\n",
    "  \n",
    "  c. Membership: `in`, `not in`\n",
    "  \n",
    "  d. Slicing: `[]`, `[:]`"
   ]
  },
  {
   "cell_type": "code",
   "execution_count": 3,
   "metadata": {
    "scrolled": true
   },
   "outputs": [
    {
     "name": "stdout",
     "output_type": "stream",
     "text": [
      "234\n",
      "23456789\n",
      "2468\n",
      "02468\n",
      "9876543210\n",
      "57\n"
     ]
    }
   ],
   "source": [
    "str1 = '0123456789'\n",
    "print(str1[2:5])\n",
    "print(str1[2: ])\n",
    "print(str1[2: : 2])\n",
    "print(str1[: : 2])\n",
    "print(str1[: : -1])\n",
    "print(str1[-5:-1: 2])"
   ]
  },
  {
   "cell_type": "code",
   "execution_count": 4,
   "metadata": {},
   "outputs": [
    {
     "name": "stdout",
     "output_type": "stream",
     "text": [
      "13\n",
      "Hello, world!\n",
      "Hello, World!\n",
      "HELLO, WORLD!\n",
      "8\n",
      "8\n",
      "False\n",
      "True\n",
      "                  hello, world!                   \n",
      "                                     hello, world!\n",
      "False\n",
      "False\n",
      "False\n",
      "hello, world!\n"
     ]
    }
   ],
   "source": [
    "str2 = 'hello, world!'\n",
    "print(len(str2)) # Length, same as length() in R\n",
    "print(str2.capitalize()) # Capitalize, same as toupper() in R\n",
    "print(str2.title()) # Same as str_to_title() in R\n",
    "print(str2.upper()) # Same as str_to_upper() in R\n",
    "print(str2.find('or')) # Same as str_detect() in R\n",
    "print(str2.index('or')) # Same as str_match() in R\n",
    "print(str2.startswith('He')) # Same as str_match(pattern = ^...)\n",
    "print(str2.endswith('!')) # Same as str_match(pattern = ...$)\n",
    "print(str2.center(50, ' ')) # Move the string to the right by inserting x y times\n",
    "print(str2.rjust(50, ' ')) # Move the string from the right by inserting x y times at the right\n",
    "print(str2.isdigit()) # If the string contains digits only\n",
    "print(str2.isalpha()) # If the string contains letters only\n",
    "print(str2.isalnum()) # If the string contains digits or letters only\n",
    "\n",
    "str3 = '          hello, world!         '\n",
    "print(str3.strip()) # Same as trim() in R"
   ]
  },
  {
   "cell_type": "markdown",
   "metadata": {},
   "source": [
    "3. Formattable string"
   ]
  },
  {
   "cell_type": "code",
   "execution_count": 5,
   "metadata": {},
   "outputs": [
    {
     "name": "stdout",
     "output_type": "stream",
     "text": [
      "5 * 10 = 50\n",
      "5 * 10 = 50\n",
      "5 * 10 = 50\n"
     ]
    }
   ],
   "source": [
    "# Formattable string in three ways\n",
    "a, b = 5, 10\n",
    "print('%d * %d = %d' % (a, b, a * b))\n",
    "print('{0} * {1} = {2}'.format(a, b, a * b))\n",
    "print(f'{a} * {b} = {a * b}')"
   ]
  },
  {
   "cell_type": "markdown",
   "metadata": {},
   "source": [
    "4. Data structures\n",
    "\n",
    "**int and float**: scalar, they don't have structures.\n",
    "\n",
    "**list, tuple, set and dictionary.**\n",
    "\n",
    "- List\n",
    "\n",
    "  - Using for loop to visit each value in a list\n",
    "  \n",
    "    - Using index\n",
    "    \n",
    "    - Using value\n",
    "    \n",
    "    - Using the `enumerate()` function"
   ]
  },
  {
   "cell_type": "code",
   "execution_count": 6,
   "metadata": {},
   "outputs": [
    {
     "name": "stdout",
     "output_type": "stream",
     "text": [
      "1\n",
      "3\n",
      "5\n",
      "7\n",
      "9\n",
      "11\n"
     ]
    }
   ],
   "source": [
    "# Using index\n",
    "sample = [1, 3, 5, 7, 9, 11]\n",
    "for i in range(len(sample)):\n",
    "    print(sample[i])"
   ]
  },
  {
   "cell_type": "code",
   "execution_count": 7,
   "metadata": {},
   "outputs": [
    {
     "name": "stdout",
     "output_type": "stream",
     "text": [
      "1\n",
      "3\n",
      "5\n",
      "7\n",
      "9\n",
      "11\n"
     ]
    }
   ],
   "source": [
    "# Using value\n",
    "sample = [1, 3, 5, 7, 9, 11]\n",
    "for value in sample:\n",
    "    print(value)"
   ]
  },
  {
   "cell_type": "code",
   "execution_count": 8,
   "metadata": {},
   "outputs": [
    {
     "name": "stdout",
     "output_type": "stream",
     "text": [
      "0 1\n",
      "1 3\n",
      "2 5\n",
      "3 7\n",
      "4 9\n",
      "5 11\n"
     ]
    }
   ],
   "source": [
    "# Using enumerate()\n",
    "sample = [1, 3, 5, 7, 9, 11]\n",
    "for i, value in enumerate(sample):\n",
    "    print(i, value)"
   ]
  },
  {
   "cell_type": "markdown",
   "metadata": {},
   "source": [
    "- List (continued)\n",
    "\n",
    "  - List manipulation 1\n",
    "  \n",
    "    - Add elements\n",
    "    \n",
    "    - Remove elements\n",
    "    \n",
    "    - Join two lists together\n",
    "    \n",
    "    - Clear all elements"
   ]
  },
  {
   "cell_type": "code",
   "execution_count": 9,
   "metadata": {},
   "outputs": [
    {
     "name": "stdout",
     "output_type": "stream",
     "text": [
      "[-1, 1, 3, 5, 7, 9, 11, 13]\n",
      "[1, 3, 5, 7, 9, 11]\n",
      "[1, 3, 7, 9, 11]\n",
      "[1, 3, 5, 7, 9, 11, 15, 17, 19]\n",
      "[]\n"
     ]
    }
   ],
   "source": [
    "sample = [1, 3, 5, 7, 9, 11]\n",
    "# Add elements\n",
    "sample.append(13)\n",
    "sample.insert(0, -1)\n",
    "print(sample)\n",
    "\n",
    "# Remove elements using index\n",
    "sample.pop(0) # remove the first element\n",
    "sample.pop(len(sample) - 1) # remove the last element\n",
    "print(sample)\n",
    "\n",
    "# Remove elements using value\n",
    "sample1 = sample.copy()\n",
    "sample1.remove(5)\n",
    "print(sample1)\n",
    "\n",
    "# Join two lists together\n",
    "sample2 = sample.copy()\n",
    "sample3 = [15, 17, 19]\n",
    "sample2.extend(sample3)\n",
    "print(sample2)\n",
    "\n",
    "# Clear all elements\n",
    "sample.clear()\n",
    "print(sample)"
   ]
  },
  {
   "cell_type": "markdown",
   "metadata": {},
   "source": [
    "- List (continued)\n",
    "\n",
    "  - List manipulation 2\n",
    "    \n",
    "    - Slicing"
   ]
  },
  {
   "cell_type": "code",
   "execution_count": 10,
   "metadata": {},
   "outputs": [
    {
     "ename": "SyntaxError",
     "evalue": "unexpected EOF while parsing (<ipython-input-10-b889bcc19cac>, line 18)",
     "output_type": "error",
     "traceback": [
      "\u001b[1;36m  File \u001b[1;32m\"<ipython-input-10-b889bcc19cac>\"\u001b[1;36m, line \u001b[1;32m18\u001b[0m\n\u001b[1;33m    print(a_copy_of_reversed_topics|\u001b[0m\n\u001b[1;37m                                    ^\u001b[0m\n\u001b[1;31mSyntaxError\u001b[0m\u001b[1;31m:\u001b[0m unexpected EOF while parsing\n"
     ]
    }
   ],
   "source": [
    "topics = ['probability', 'R', 'Python', 'Regression']\n",
    "topics.extend(['Causal Inference'])\n",
    "topics += ['Machine Learning']\n",
    "print(topics)\n",
    "\n",
    "# List slicing\n",
    "selected_topics = topics[2:5]\n",
    "another_list = topics[-4:-1]\n",
    "print(selected_topics)\n",
    "print(another_list)\n",
    "\n",
    "# Copy the list using full slicing\n",
    "a_copy_of_topics = topics[:]\n",
    "print(a_copy_of_topics)\n",
    "      \n",
    "# Copy the reversed list using reversed indexing\n",
    "a_copy_of_reversed_topics = topics[: : -1]\n",
    "print(a_copy_of_reversed_topics|"
   ]
  },
  {
   "cell_type": "markdown",
   "metadata": {},
   "source": [
    "- List (continued)\n",
    "  \n",
    "  - List manipulation 3\n",
    "    \n",
    "    - Sorting"
   ]
  },
  {
   "cell_type": "code",
   "execution_count": null,
   "metadata": {},
   "outputs": [],
   "source": [
    "letters = ['a', 'A', 'c', 'b', 'C', 'B', '9', '0']\n",
    "letters_sorted = sorted(letters)\n",
    "# Strings are sorted with initials following this order: 0-9, A-Z, a-z\n",
    "print(letters_sorted)\n",
    "\n",
    "# To reverse\n",
    "letters_sorted_reversed = sorted(letters, reverse=True)\n",
    "print(letters_sorted_reversed)\n",
    "\n",
    "# sorted() will not update the original list\n",
    "print(letters)\n",
    "\n",
    "# Using the length for indexing instead of initials\n",
    "letters2 = ['AA', 'BBDC', '12C', '0']\n",
    "letters_sorted_by_length = sorted(letters2, key=len)\n",
    "print(letters_sorted_by_length)\n",
    "print(letters2)\n",
    "\n",
    "# Sort list directly *This will update the original list*\n",
    "letters2.sort(key=len)\n",
    "print(letters2)"
   ]
  },
  {
   "cell_type": "markdown",
   "metadata": {},
   "source": [
    "- List comprehensions and generators\n",
    "\n",
    "  - Using function to generate a list\n",
    "\n",
    "  - Using generators"
   ]
  },
  {
   "cell_type": "code",
   "execution_count": null,
   "metadata": {},
   "outputs": [],
   "source": [
    "numbers = [x for x in range(1, 10)]\n",
    "print(numbers)\n",
    "\n",
    "num_let = [x + y for x in range(1, 6) for y in range(2, 7)]\n",
    "print(num_let)\n",
    "\n",
    "# Using list comprehensions will consume additional memory\n",
    "import sys\n",
    "print(sys.getsizeof(num_let)) # Check memory usage\n",
    "\n",
    "# Using generator will not consume additional memory\n",
    "num_let = (x + y for x in range(1, 4) for y in range(2, 5))\n",
    "print(sys.getsizeof(num_let)) # Check memory usage\n",
    "print(num_let) # Generator will not print results\n",
    "# To get results, call values inside the generator\n",
    "for val in num_let:\n",
    "    print(val)"
   ]
  },
  {
   "cell_type": "markdown",
   "metadata": {},
   "source": [
    "- Change function to generator using `yield`\n",
    "\n",
    "  - Example: generate a Fibonacci sequence using a generator\n",
    "  \n",
    "  $$\n",
    "  F_0 = 0 \\\\\n",
    "  F_1 = 1 \\\\\n",
    "  F_n = F_{n-1} + F_{n-2} (n \\geq 2)\n",
    "  $$"
   ]
  },
  {
   "cell_type": "code",
   "execution_count": null,
   "metadata": {},
   "outputs": [],
   "source": [
    "def fib(n):\n",
    "    a, b = 0, 1\n",
    "    for _ in range(n):\n",
    "        a, b = b, a + b\n",
    "        yield a\n",
    "        \n",
    "def fib_original(n):\n",
    "    a, b = 0, 1\n",
    "    for _ in range(n):\n",
    "        a, b = b, a + b\n",
    "        print(a)\n",
    "        \n",
    "# Check memory usage\n",
    "print(sys.getsizeof(fib(10))) # Generator does not consume additional memory\n",
    "print(sys.getsizeof(fib_original(15)))"
   ]
  },
  {
   "cell_type": "markdown",
   "metadata": {},
   "source": [
    "- Tuple\n",
    "\n",
    "  - Why using tuples?\n",
    "  \n",
    "    - In a multi-threading environment, tuple is better than a list because it does not support edition. This will prevent unintentional changes.\n",
    "    \n",
    "    - Tuples consumes less memory than lists and are faster to generate."
   ]
  },
  {
   "cell_type": "code",
   "execution_count": null,
   "metadata": {},
   "outputs": [],
   "source": [
    "a_tuple = (1, 2, 3, 4, 5)\n",
    "a_list = [1, 2, 3, 4, 5]\n",
    "\n",
    "print(sys.getsizeof(a_tuple))\n",
    "print(sys.getsizeof(a_list))"
   ]
  },
  {
   "cell_type": "markdown",
   "metadata": {},
   "source": [
    "- Set\n",
    "\n",
    "  - Elements are not allowed to duplicate.\n",
    "  \n",
    "  - ![Python sets](images/05-27-2020/python-set.png)"
   ]
  },
  {
   "cell_type": "code",
   "execution_count": null,
   "metadata": {},
   "outputs": [],
   "source": [
    "set1 = {1, 2, 3, 3, 3, 3, 3, 2}\n",
    "set2 = set(range(1, 4))\n",
    "set3 = {num for num in range(1, 6) if num < 4}\n",
    "print(set1, set2, set3)"
   ]
  },
  {
   "cell_type": "code",
   "execution_count": null,
   "metadata": {},
   "outputs": [],
   "source": [
    "set1 = {1, 2, 3, 3, 3, 3, 3, 2}\n",
    "set2 = set(range(1, 4))\n",
    "set3 = {num for num in range(1, 6) if num < 4}\n",
    "# Add or remove elements from a set\n",
    "set1.add(4)\n",
    "set1.add(5)\n",
    "set2.update([11, 12])\n",
    "set2.discard(3)\n",
    "if 2 in set2:\n",
    "    set2.remove(2)\n",
    "print(set1, set2)\n",
    "print(set3.pop())\n",
    "print(set3)"
   ]
  },
  {
   "cell_type": "code",
   "execution_count": null,
   "metadata": {},
   "outputs": [],
   "source": [
    "# Intersection\n",
    "set1 = {1, 2, 3, 4}\n",
    "set2 = {3, 4, 5, 6}\n",
    "print(set1 & set2)\n",
    "print(set1.intersection(set2))"
   ]
  },
  {
   "cell_type": "code",
   "execution_count": null,
   "metadata": {},
   "outputs": [],
   "source": [
    "# Union\n",
    "print(set1 | set2)\n",
    "print(set1.union(set2))"
   ]
  },
  {
   "cell_type": "code",
   "execution_count": null,
   "metadata": {},
   "outputs": [],
   "source": [
    "# Subtracting\n",
    "print(set1 - set2)\n",
    "print(set1.difference(set2))"
   ]
  },
  {
   "cell_type": "code",
   "execution_count": null,
   "metadata": {},
   "outputs": [],
   "source": [
    "# Symmetric Difference\n",
    "print(set1 ^ set2)\n",
    "print(set1.symmetric_difference(set2))"
   ]
  },
  {
   "cell_type": "code",
   "execution_count": null,
   "metadata": {},
   "outputs": [],
   "source": [
    "# Determine if subset\n",
    "print(set2 <= set1)\n",
    "print(set2.issubset(set1))\n",
    "print(set2 >= set1)\n",
    "print(set2.issuperset(set1))"
   ]
  },
  {
   "cell_type": "markdown",
   "metadata": {},
   "source": [
    "- Dictionary\n",
    "\n",
    "  - {key: value}"
   ]
  },
  {
   "cell_type": "code",
   "execution_count": null,
   "metadata": {},
   "outputs": [],
   "source": [
    "grade = {'Tim': 90, 'Jack': 85, 'Mary': 79}\n",
    "print(grade)\n",
    "grade2 = dict(Tim=90, Jack=85, Mary=79)\n",
    "print(grade2)\n",
    "grade3 = dict(zip(['Tim', 'Jack', 'Mary'], [90, 85, 79]))\n",
    "print(grade3)\n",
    "sample = {num: num ** 2 for num in range(1, 10)}\n",
    "print(sample)"
   ]
  },
  {
   "cell_type": "code",
   "execution_count": null,
   "metadata": {},
   "outputs": [],
   "source": [
    "# Use key to get value\n",
    "print(grade['Tim'])"
   ]
  },
  {
   "cell_type": "code",
   "execution_count": null,
   "metadata": {},
   "outputs": [],
   "source": [
    "# Use for loop \n",
    "for key in grade:\n",
    "    print(f'{key}: {grade[key]}')"
   ]
  },
  {
   "cell_type": "code",
   "execution_count": null,
   "metadata": {},
   "outputs": [],
   "source": [
    "# Update elements in a dictionary\n",
    "grade['Tim'] = 85\n",
    "print(grade)\n",
    "grade.update(Tim=99)\n",
    "print(grade)"
   ]
  },
  {
   "cell_type": "code",
   "execution_count": null,
   "metadata": {},
   "outputs": [],
   "source": [
    "# Use get with default\n",
    "# Get the value of a certain element\n",
    "# If non exist, create one with default value\n",
    "print(grade.get('Linda', 86))"
   ]
  },
  {
   "cell_type": "code",
   "execution_count": null,
   "metadata": {},
   "outputs": [],
   "source": [
    "# Delete elements\n",
    "print(grade2.popitem())\n",
    "print(grade.pop('Tim', 99))"
   ]
  },
  {
   "cell_type": "code",
   "execution_count": null,
   "metadata": {},
   "outputs": [],
   "source": [
    "# Clear a dictionary\n",
    "grade3.clear()\n",
    "print(grade3)"
   ]
  },
  {
   "cell_type": "code",
   "execution_count": null,
   "metadata": {},
   "outputs": [],
   "source": [
    "# Exercise 1\n",
    "# Marquee\n",
    "def main(content):\n",
    "    count = 0\n",
    "    while count < 14:\n",
    "        print(content)\n",
    "        content = content[1: ] + content[0]\n",
    "        count += 1\n",
    "\n",
    "if __name__ == '__main__':\n",
    "    main('Hello, World!')"
   ]
  },
  {
   "cell_type": "code",
   "execution_count": null,
   "metadata": {},
   "outputs": [],
   "source": [
    "# Exercise 2\n",
    "# Develop an authorization code generator that generates a code with certain length\n",
    "import random\n",
    "import string\n",
    "\n",
    "def auth_code_generator(code_len=6):\n",
    "    poll = string.ascii_lowercase + string.ascii_uppercase + string.digits\n",
    "    output = ''\n",
    "    for _ in range(code_len):\n",
    "        index = random.randint(0, len(poll) - 1)\n",
    "        output += poll[index]\n",
    "    return output\n",
    "\n",
    "# Test\n",
    "print(auth_code_generator(code_len=4))\n",
    "print(auth_code_generator())\n",
    "print(auth_code_generator(code_len=10))\n",
    "\n",
    "# Reference\n",
    "# https://stackoverflow.com/questions/16060899/alphabet-range-in-python"
   ]
  },
  {
   "cell_type": "code",
   "execution_count": null,
   "metadata": {},
   "outputs": [],
   "source": [
    "# Exercise 3\n",
    "# Develop a function to return file suffix format\n",
    "def get_suffix(filename, with_dot=True):\n",
    "    \"\"\"\n",
    "    Get file's suffix value using rfind()\n",
    "    :param with_dot: whether the return value has a dot with it\n",
    "    \"\"\"\n",
    "    dot_index = filename.rfind('.')\n",
    "    if 0 < dot_index < len(filename) - 1:\n",
    "        suffix_index_start = dot_index if with_dot else dot_index + 1\n",
    "        return filename[suffix_index_start: ]\n",
    "    else:\n",
    "        return None\n",
    "    \n",
    "# Test\n",
    "get_suffix('Test.pdf')\n",
    "get_suffix('Sample.txt.pdf', with_dot=False)\n",
    "        "
   ]
  },
  {
   "cell_type": "code",
   "execution_count": null,
   "metadata": {},
   "outputs": [],
   "source": [
    "# Exercise 4\n",
    "# Design a function to return the largest and the second largest number in a list\n",
    "def max_2(list_input):\n",
    "    # Validate\n",
    "    valid = True\n",
    "    for item in list_input:\n",
    "        if type(item) != int:\n",
    "            print('Please enter integer only!')\n",
    "            valid = False\n",
    "            return ''\n",
    "    if valid:\n",
    "        if len(list_input) < 2:\n",
    "            print('There is only one element in this list.')\n",
    "            return ''\n",
    "        else:\n",
    "            if list_input[0] > list_input[1]:\n",
    "                max_1, max_2 = [list_input[0], list_input[1]]\n",
    "            else:\n",
    "                max_1, max_2 = [list_input[1], list_input[0]]\n",
    "            for i in range(2, len(list_input)):\n",
    "                if i > max_1:\n",
    "                    max_1 = list_input[i]\n",
    "                    max_2 = max_1\n",
    "                elif i > max_2:\n",
    "                    max_2 = list_input[i]\n",
    "            return max_1, max_2\n",
    "\n",
    "# Test\n",
    "list0 = [23, 24, -4, 2, 6]\n",
    "list1 = [3, 5, 2, 5, 6, 7]\n",
    "list2 = [5, 4, 7, 13, 'HAHA']\n",
    "list3 = [509]\n",
    "print(max_2(list1))\n",
    "print(max_2(list2))\n",
    "print(max_2(list3))"
   ]
  },
  {
   "cell_type": "code",
   "execution_count": null,
   "metadata": {},
   "outputs": [],
   "source": [
    "# Exercise 5\n",
    "# Calculate the index of the day as of this year\n",
    "def which_day(year, month, day):\n",
    "    # Determine leap year\n",
    "    is_leap = False\n",
    "    if year % 4 == 0 and year % 100 != 0 or year % 400 == 0:\n",
    "        is_leap = True\n",
    "    month_index = [1, 0, 1, 0, 1, 0, 1, 1, 0, 1, 0, 1]\n",
    "    for i in range(len(month_index) - 1):\n",
    "        if month_index[i] == 1:\n",
    "            month_index[i] = 31\n",
    "        else:\n",
    "            month_index[i] = 30\n",
    "    month_index[1] == 29 if is_leap else month_index[1] == 28\n",
    "    total = 0\n",
    "    for i in range(month - 1):\n",
    "        total += month_index[i]\n",
    "    return total + day\n",
    "\n",
    "# Test\n",
    "print(which_day(1980, 11, 28))\n",
    "print(which_day(1981, 12, 31))\n",
    "print(which_day(2018, 1, 1))\n",
    "print(which_day(2016, 3, 1))"
   ]
  },
  {
   "cell_type": "code",
   "execution_count": 14,
   "metadata": {},
   "outputs": [
    {
     "name": "stdout",
     "output_type": "stream",
     "text": [
      "1\n",
      "11\n",
      "121\n",
      "1331\n",
      "14641\n"
     ]
    }
   ],
   "source": [
    "# Exercise 6\n",
    "# Print Pascal's triangle\n",
    "def pascal_tri(n):\n",
    "    \"\"\"\n",
    "    Pascal's Triangle\n",
    "    n: levels of the triangle\n",
    "    \"\"\"\n",
    "    output = [[]] * n # Preset slots for input\n",
    "    for row in range(len(output)):\n",
    "        output[row] = [0] * (row + 1)\n",
    "        for col in range(len(output[row])):\n",
    "            if col == 0 or col == row:\n",
    "                output[row][col] = 1\n",
    "            else:\n",
    "                output[row][col] = output[row - 1][col] + output[row - 1][col - 1]\n",
    "            print(output[row][col], end='')\n",
    "        print()\n",
    "            \n",
    "# Test\n",
    "pascal_tri(5)"
   ]
  }
 ],
 "metadata": {
  "kernelspec": {
   "display_name": "Python 3.8.2 64-bit",
   "language": "python",
   "name": "python38264bit7e3c702f16764767914e1c3a23341f94"
  },
  "language_info": {
   "codemirror_mode": {
    "name": "ipython",
    "version": 3
   },
   "file_extension": ".py",
   "mimetype": "text/x-python",
   "name": "python",
   "nbconvert_exporter": "python",
   "pygments_lexer": "ipython3",
   "version": "3.8.2"
  }
 },
 "nbformat": 4,
 "nbformat_minor": 2
}
