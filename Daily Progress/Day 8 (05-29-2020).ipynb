{
 "cells": [
  {
   "cell_type": "markdown",
   "metadata": {},
   "source": [
    "# Python Learning Notes - Daily Log"
   ]
  },
  {
   "cell_type": "markdown",
   "metadata": {},
   "source": [
    "## 05/29/2020 - 06/01/2020"
   ]
  },
  {
   "cell_type": "markdown",
   "metadata": {},
   "source": [
    "### Daily Objects\n",
    "\n",
    "1. Python-100-days: Day 8\n",
    "\n",
    "2. *Beginning Python*: Read Chapter 3\n",
    "\n",
    "3. *Python Programming*: Read Chapter 1\n",
    "\n",
    "### Progress\n",
    "\n",
    "1. Python-100-days: Day 7 (100%)\n",
    "\n",
    "2. Python-100-days: Day 8\n"
   ]
  },
  {
   "cell_type": "markdown",
   "metadata": {},
   "source": [
    "### Python-100-days: Object-oriented Programming (OOP)"
   ]
  },
  {
   "cell_type": "markdown",
   "metadata": {},
   "source": [
    "- Object\n",
    "\n",
    "  - Everything is object\n",
    "  \n",
    "  - Each object has attributes and behavior\n",
    "   \n",
    "  - Each object is unique\n",
    "  \n",
    "- Class\n",
    "\n",
    "  - Use to describe objects with similar attributes"
   ]
  },
  {
   "cell_type": "code",
   "execution_count": 42,
   "metadata": {},
   "outputs": [],
   "source": [
    "class Coding(object):\n",
    "    \n",
    "    # Use __init__ to initialize objects\n",
    "    def __init__(self, programmer, level):\n",
    "        self.programmer = programmer\n",
    "        self.level = level \n",
    "    \n",
    "    # Define actions using function\n",
    "    def develop(self, project):\n",
    "        print(f'{self.programmer} is developing {project}.')\n",
    "        \n",
    "    def procrastinate(self):\n",
    "        if self.level <= 2:\n",
    "            print(f'Are you out of your mind, {self.programmer}?! Your supervisor is watching!')\n",
    "        else:\n",
    "            print(f'You can do whatever you want, {self.programmer}. You\\'re the boss!')"
   ]
  },
  {
   "cell_type": "code",
   "execution_count": 45,
   "metadata": {},
   "outputs": [
    {
     "name": "stdout",
     "output_type": "stream",
     "text": [
      "Pony Ma is developing WeChat Mini Programs.\n",
      "Are you out of your mind, Unpaid Intern?! Your supervisor is watching!\n"
     ]
    }
   ],
   "source": [
    "# Create new programmer files\n",
    "programmer_1 = Coding('Pony Ma', 5)\n",
    "programmer_2 = Coding('Unpaid Intern', 1)\n",
    "# Control actions using attributes\n",
    "programmer_1.develop('WeChat Mini Programs')\n",
    "programmer_2.procrastinate()"
   ]
  },
  {
   "cell_type": "markdown",
   "metadata": {},
   "source": [
    "- Encapsulation\n",
    "\n",
    "  - To reduce complexity, conceal all details except the main logic flow."
   ]
  },
  {
   "cell_type": "code",
   "execution_count": 51,
   "metadata": {},
   "outputs": [
    {
     "name": "stdout",
     "output_type": "stream",
     "text": [
      "10:59:55\n",
      "10:59:56\n",
      "10:59:57\n",
      "10:59:58\n",
      "10:59:59\n",
      "11: 0: 0\n",
      "11: 0: 1\n",
      "11: 0: 2\n",
      "11: 0: 3\n",
      "11: 0: 4\n",
      "11: 0: 5\n"
     ]
    }
   ],
   "source": [
    "# Exercise 1\n",
    "# Define a digital clock using class\n",
    "from time import sleep\n",
    "\n",
    "class Clock(object):\n",
    "    \"\"\"Digital clock\"\"\"\n",
    "    \n",
    "    def __init__(self, hour=0, minute=0, second=0):\n",
    "        \"\"\"Initial: return to zero position\n",
    "        \n",
    "        :param hour = hour (protected)\n",
    "        :param minute = minute (protected)\n",
    "        :param second = second (protected)\n",
    "        \"\"\"\n",
    "        self._hour = hour\n",
    "        self._minute = minute\n",
    "        self._second = second\n",
    "        \n",
    "    def operate(self):\n",
    "        \"\"\"Operating\"\"\"\n",
    "        self._second += 1\n",
    "        if self._second == 60:\n",
    "            self._minute += 1\n",
    "            self._second = 0\n",
    "            if self._minute == 60:\n",
    "                self._hour += 1\n",
    "                self._minute = 0\n",
    "                if self._hour == 24:\n",
    "                    self._hour = 0\n",
    "                    \n",
    "    def show_time(self):\n",
    "        return f'{self._hour:2d}:{self._minute:2d}:{self._second:2d}'\n",
    "            \n",
    "# Test\n",
    "clock = Clock(10, 59, 55)\n",
    "test = 0\n",
    "while test < 11:\n",
    "    print(clock.show_time())\n",
    "    sleep(1)\n",
    "    clock.operate()\n",
    "    test += 1"
   ]
  },
  {
   "cell_type": "code",
   "execution_count": 55,
   "metadata": {},
   "outputs": [
    {
     "name": "stdout",
     "output_type": "stream",
     "text": [
      "5.0\n"
     ]
    }
   ],
   "source": [
    "# Exercise 2\n",
    "# Calculate the distance of two points using class\n",
    "class Point(object):\n",
    "    \n",
    "    def __init__(self, x=0, y=0):\n",
    "        self.x = x\n",
    "        self.y = y\n",
    "        \n",
    "    def distance(self, other):\n",
    "        dx = self.x - other.x\n",
    "        dy = self.y - other.y\n",
    "        return (dx ** 2 + dy ** 2) ** 0.5\n",
    "    \n",
    "# Test\n",
    "p1 = Point()\n",
    "p2 = Point(3, 4)\n",
    "print(p1.distance(p2))"
   ]
  }
 ],
 "metadata": {
  "kernelspec": {
   "display_name": "Python 3.8.2 64-bit",
   "language": "python",
   "name": "python38264bit7e3c702f16764767914e1c3a23341f94"
  },
  "language_info": {
   "codemirror_mode": {
    "name": "ipython",
    "version": 3
   },
   "file_extension": ".py",
   "mimetype": "text/x-python",
   "name": "python",
   "nbconvert_exporter": "python",
   "pygments_lexer": "ipython3",
   "version": "3.8.2"
  }
 },
 "nbformat": 4,
 "nbformat_minor": 2
}
