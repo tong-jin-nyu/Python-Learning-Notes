{
 "cells": [
  {
   "cell_type": "markdown",
   "metadata": {},
   "source": [
    "# Python Basics\n",
    "\n",
    "Source: [Python-Core-50-Courses](https://github.com/jackfrued/Python-Core-50-Courses)"
   ]
  },
  {
   "cell_type": "markdown",
   "metadata": {},
   "source": [
    "## Day 1 - 092620"
   ]
  },
  {
   "cell_type": "markdown",
   "metadata": {},
   "source": [
    "### First Line"
   ]
  },
  {
   "cell_type": "code",
   "execution_count": 3,
   "metadata": {},
   "outputs": [
    {
     "name": "stdout",
     "output_type": "stream",
     "text": [
      "hello, world\n"
     ]
    }
   ],
   "source": [
    "\"\"\"\n",
    "First line - hello, world\n",
    "\n",
    "Version: 0.1\n",
    "Author: Tong Jin\n",
    "\"\"\"\n",
    "print('hello, world')"
   ]
  },
  {
   "cell_type": "markdown",
   "metadata": {},
   "source": [
    "### Variables\n",
    "\n",
    "Variables are used to store data. \n",
    "\n",
    "Variable types include:\n",
    "\n",
    "1. `int`: integer \n",
    "\n",
    "2. `float`: support both math notation (123.456) and scientific notation (1.23456e2)\n",
    "\n",
    "3. `str`: string\n",
    "\n",
    "4. `bool`: Boolean - `True` or `False`"
   ]
  },
  {
   "cell_type": "markdown",
   "metadata": {},
   "source": [
    "### Naming Convention\n",
    "\n",
    "- Mandatory\n",
    "  - Rule 1: contain only letters, numbers and/or underline (_). Cannot start with numbers\n",
    "  - Rule 2: capital sensitive\n",
    "  - Rule 3: cannot use keywords or reserved words\n",
    "  \n",
    "- Optional\n",
    "  - Rule 1: the initial of variables should be lowercase letters. Connecting words with underlines.\n",
    "  - Rule 2: protected variables should start with underline (_foo)\n",
    "  - Rule 3: private variables should start with double underlines (__private_foo)"
   ]
  },
  {
   "cell_type": "code",
   "execution_count": 5,
   "metadata": {},
   "outputs": [
    {
     "name": "stdout",
     "output_type": "stream",
     "text": [
      "33\n",
      "-7\n",
      "1.5384615384615385\n"
     ]
    }
   ],
   "source": [
    "\"\"\"\n",
    "Conduct mathematical computation using variables\n",
    "\n",
    "Version: 0.1\n",
    "Author: Tong Jin\n",
    "\"\"\"\n",
    "a = 20\n",
    "b = 13\n",
    "print(a + b)\n",
    "print(b - a)\n",
    "print(a / b)"
   ]
  },
  {
   "cell_type": "code",
   "execution_count": 6,
   "metadata": {},
   "outputs": [
    {
     "name": "stdout",
     "output_type": "stream",
     "text": [
      "<class 'int'>\n",
      "<class 'float'>\n",
      "<class 'str'>\n",
      "<class 'bool'>\n"
     ]
    }
   ],
   "source": [
    "# Examine variable types using type()\n",
    "a = 50\n",
    "b = 3.14\n",
    "c = 'hello, world'\n",
    "d = False\n",
    "print(type(a))\n",
    "print(type(b))\n",
    "print(type(c))\n",
    "print(type(d))"
   ]
  },
  {
   "cell_type": "code",
   "execution_count": 10,
   "metadata": {},
   "outputs": [
    {
     "name": "stdout",
     "output_type": "stream",
     "text": [
      "50.0\n",
      "3\n",
      "True\n",
      "0\n",
      "d\n"
     ]
    }
   ],
   "source": [
    "\"\"\"\n",
    "Transforming variable types\n",
    "\n",
    "Version: 0.1\n",
    "Author: Tong Jin\n",
    "\"\"\"\n",
    "a = 50\n",
    "b = 3.14\n",
    "c = 'hello, world'\n",
    "d = False\n",
    "# int to float\n",
    "print(float(a))\n",
    "# float to int\n",
    "print(int(b)) # take floor\n",
    "# int to bool\n",
    "print(bool(a)) # True if not empty\n",
    "# bool to int\n",
    "print(int(d)) # True: 1, False: 0\n",
    "# int to character\n",
    "print(chr(100))"
   ]
  },
  {
   "cell_type": "markdown",
   "metadata": {},
   "source": [
    "### Operators\n",
    "\n",
    "A list of Python operators (orderred by priority)\n",
    "\n",
    "| Operators  | Description               |\n",
    "| ---------- | ------------------------- |\n",
    "| []         | subscript                 |\n",
    "| [:]        | slicing                   |\n",
    "| **         | exponential               |\n",
    "| ~ + -      | NOT positive negative     |\n",
    "| * / % //   | - - module floor division |\n",
    "| + -        | addition substraction     |\n",
    "| >> <<      | shift to right/left       |\n",
    "| &          | AND                       |\n",
    "| ^ |        | XOR OR                    |\n",
    "| <= < > >=  |                           |\n",
    "| == !=      |                           |\n",
    "| is is not  | identity                  |\n",
    "| in not in  | membership                |\n",
    "| not or and | logical                   |\n",
    "| = += -= .. | defintion                 |"
   ]
  },
  {
   "cell_type": "code",
   "execution_count": 11,
   "metadata": {},
   "outputs": [
    {
     "name": "stdout",
     "output_type": "stream",
     "text": [
      "360\n"
     ]
    }
   ],
   "source": [
    "\"\"\"\n",
    "Definition operators\n",
    "\n",
    "Version: 0.1\n",
    "Author: Tong Jin\n",
    "\"\"\"\n",
    "a = 15\n",
    "b = 3\n",
    "a += b\n",
    "a *= a + 2\n",
    "print(a)"
   ]
  },
  {
   "cell_type": "code",
   "execution_count": 13,
   "metadata": {},
   "outputs": [
    {
     "name": "stdout",
     "output_type": "stream",
     "text": [
      "flag = True\n"
     ]
    }
   ],
   "source": [
    "\"\"\"\n",
    "Comparison operators\n",
    "\n",
    "Version:0.1\n",
    "Author: Tong Jin\n",
    "\"\"\"\n",
    "flag = not (1 == 2) # False\n",
    "print('flag = {}'.format(flag))"
   ]
  }
 ],
 "metadata": {
  "kernelspec": {
   "display_name": "Python 3",
   "language": "python",
   "name": "python3"
  },
  "language_info": {
   "codemirror_mode": {
    "name": "ipython",
    "version": 3
   },
   "file_extension": ".py",
   "mimetype": "text/x-python",
   "name": "python",
   "nbconvert_exporter": "python",
   "pygments_lexer": "ipython3",
   "version": "3.7.6"
  }
 },
 "nbformat": 4,
 "nbformat_minor": 4
}
